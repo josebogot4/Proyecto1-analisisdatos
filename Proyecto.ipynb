{
  "cells": [
    {
      "cell_type": "markdown",
      "metadata": {
        "id": "view-in-github",
        "colab_type": "text"
      },
      "source": [
        "<a href=\"https://colab.research.google.com/github/josebogot4/Proyecto1-analisisdatos/blob/main/Proyecto.ipynb\" target=\"_parent\"><img src=\"https://colab.research.google.com/assets/colab-badge.svg\" alt=\"Open In Colab\"/></a>"
      ]
    },
    {
      "cell_type": "markdown",
      "metadata": {
        "id": "EKvAu-Gq2q7-"
      },
      "source": [
        "# **Rendimiento de acciones**"
      ]
    },
    {
      "cell_type": "markdown",
      "metadata": {
        "id": "GezokaDc4GSk"
      },
      "source": [
        "## **1. Entendimiendo del negocio**"
      ]
    },
    {
      "cell_type": "markdown",
      "metadata": {
        "id": "Ue0bTuE73wAD"
      },
      "source": [
        "### **1.1 Objetivos del negocio**\n",
        "El mercado financiero es un espacio donde se compran y venden activos financieros. Su objetivo es canalizar el ahorro de personas particulares y de otros inversionistas hacia la inversión de las empresas de la forma más eficiente y transparente posible. \n",
        "\n",
        "En particular, en los mercados financieros se negocian un tipo de activo de renta variable llamado acciones. Las acciones representan una proporción del capital social de una empresa, en otras palabras son partes iguales en las que se divide una empresa. Estas partes son puestas a la venta y la persona que se hace de ellas es llamado accionista de la empresa. El objetivo de la venta de las acciones es que la empresa recoja cierta liquidez para financiar y desarrollar nuevos proyectos sin necesidad de buscar capital en una entidad bancaria. Por lo cual si la empresa logra desarrollarse con exito, esta se cotizará de manera positiva y su valor en el mercado incrementará, así cada acción también sube de precio y genería ganancias para el accionista.\n"
      ]
    },
    {
      "cell_type": "markdown",
      "metadata": {
        "id": "ivXXxFy9eGG5"
      },
      "source": [
        "### **1.2 Objetivo del proyecto** \n",
        "\n",
        "El proyecto tiene como objetivo estudiar si existe relación entre los rendimientos de las empresas tecnologicas más importantes del mundo; especificamente hablando de Netflix, Amazon, Apple y Google, comunmente llamadas *AANG*. El objeto de estudio permite plantearse las siguientes preguntas. ¿Es la tasa de retorno positiva como para adquirir alguna de estas acciones?, ¿sería una buena decisión tener alguna de estas acciones en un portafolio de inversiones?, ¿existe alguna relación entre los rendimientos de las acciones mencionadas?. El objetivo principal es resolver estas preguntas.\n"
      ]
    },
    {
      "cell_type": "markdown",
      "metadata": {
        "id": "erHGZ1g-illi"
      },
      "source": [
        "### **1.3 Planeación del proyecto**\n",
        "\n",
        "El proyecto se realizará de la siguiente manera:\n",
        "\n",
        "1. Se descargan los datos (en formato *csv*) necesararios de cada una de las acciones mencionadas en los objetivos. Esto se realiza de manera directa de la página *yahoo-finance*.\n",
        "2. Una vez descargado los datos, se procede a realizar el entendimiento de los datos, en este caso aparecen los precios de negociación por sesión diaria.\n",
        "3. Se realiza la limpieza y selección de las características necesarias para resolver las preguntas planteadas.\n",
        "4. Se analizan los datos para obtener información que permita resolver las preguntas planteadas.\n",
        "5. Se Establecen visualizaciones de los datos que permitan interpretar la información analizada en el punto anterior, esto con el objetivo de realizar las conclusiones pertinentes."
      ]
    },
    {
      "cell_type": "markdown",
      "metadata": {
        "id": "TFBYm90MlLp1"
      },
      "source": [
        "## **2. Entendimiento de los datos**"
      ]
    },
    {
      "cell_type": "code",
      "execution_count": null,
      "metadata": {
        "id": "yaD1QYReorbD"
      },
      "outputs": [],
      "source": [
        "#Importar modulos realizar la manipulación y analísis de los datos\n",
        "\n",
        "import pandas as pd \n",
        "import numpy as np \n",
        "from datetime import datetime\n",
        "\n",
        "from scipy import stats\n",
        "import scipy\n",
        "import statsmodels.api as sm\n",
        "import statsmodels.formula.api as smf\n",
        "\n",
        "import matplotlib  \n",
        "import matplotlib.pyplot as plt\n",
        "import matplotlib.ticker as mtick\n",
        "import seaborn as sns"
      ]
    },
    {
      "cell_type": "markdown",
      "metadata": {
        "id": "bmj7yJ4dlUKT"
      },
      "source": [
        "### **2.1 Analísis exploratorio de los datos**\n",
        "\n",
        "Los datos se descargan directamente de *yahoo-finance* en formato *csv*."
      ]
    },
    {
      "cell_type": "code",
      "execution_count": null,
      "metadata": {
        "id": "yG5wLMqimso7"
      },
      "outputs": [],
      "source": [
        "# Listar los dataframes de las acciones\n",
        "# El indice será la fecha. \n",
        "\n",
        "google = pd.read_csv('GOOG.csv')\n",
        "apple = pd.read_csv('AAPL.csv')\n",
        "amazon = pd.read_csv('AMZN.csv')\n",
        "netflix = pd.read_csv('NFLX.csv')"
      ]
    },
    {
      "cell_type": "markdown",
      "source": [
        "Así luce la acción de Google en un dataframe."
      ],
      "metadata": {
        "id": "dHjh9hw49QuC"
      }
    },
    {
      "cell_type": "code",
      "source": [
        "google.head()"
      ],
      "metadata": {
        "colab": {
          "base_uri": "https://localhost:8080/",
          "height": 206
        },
        "id": "S3ji8LnS9bsp",
        "outputId": "6c948109-1551-415a-acb5-c9209c0cb497"
      },
      "execution_count": null,
      "outputs": [
        {
          "output_type": "execute_result",
          "data": {
            "text/plain": [
              "         Date      Open      High       Low     Close  Adj Close     Volume\n",
              "0  2004-08-20  2.515820  2.716817  2.503118  2.697639   2.697639  458857488\n",
              "1  2004-08-23  2.758411  2.826406  2.716070  2.724787   2.724787  366857939\n",
              "2  2004-08-24  2.770615  2.779581  2.579581  2.611960   2.611960  306396159\n",
              "3  2004-08-25  2.614201  2.689918  2.587302  2.640104   2.640104  184645512\n",
              "4  2004-08-26  2.613952  2.688672  2.606729  2.687676   2.687676  142572401"
            ],
            "text/html": [
              "\n",
              "  <div id=\"df-f49c62ab-0ed0-473c-8a2c-09f0bc963d3b\">\n",
              "    <div class=\"colab-df-container\">\n",
              "      <div>\n",
              "<style scoped>\n",
              "    .dataframe tbody tr th:only-of-type {\n",
              "        vertical-align: middle;\n",
              "    }\n",
              "\n",
              "    .dataframe tbody tr th {\n",
              "        vertical-align: top;\n",
              "    }\n",
              "\n",
              "    .dataframe thead th {\n",
              "        text-align: right;\n",
              "    }\n",
              "</style>\n",
              "<table border=\"1\" class=\"dataframe\">\n",
              "  <thead>\n",
              "    <tr style=\"text-align: right;\">\n",
              "      <th></th>\n",
              "      <th>Date</th>\n",
              "      <th>Open</th>\n",
              "      <th>High</th>\n",
              "      <th>Low</th>\n",
              "      <th>Close</th>\n",
              "      <th>Adj Close</th>\n",
              "      <th>Volume</th>\n",
              "    </tr>\n",
              "  </thead>\n",
              "  <tbody>\n",
              "    <tr>\n",
              "      <th>0</th>\n",
              "      <td>2004-08-20</td>\n",
              "      <td>2.515820</td>\n",
              "      <td>2.716817</td>\n",
              "      <td>2.503118</td>\n",
              "      <td>2.697639</td>\n",
              "      <td>2.697639</td>\n",
              "      <td>458857488</td>\n",
              "    </tr>\n",
              "    <tr>\n",
              "      <th>1</th>\n",
              "      <td>2004-08-23</td>\n",
              "      <td>2.758411</td>\n",
              "      <td>2.826406</td>\n",
              "      <td>2.716070</td>\n",
              "      <td>2.724787</td>\n",
              "      <td>2.724787</td>\n",
              "      <td>366857939</td>\n",
              "    </tr>\n",
              "    <tr>\n",
              "      <th>2</th>\n",
              "      <td>2004-08-24</td>\n",
              "      <td>2.770615</td>\n",
              "      <td>2.779581</td>\n",
              "      <td>2.579581</td>\n",
              "      <td>2.611960</td>\n",
              "      <td>2.611960</td>\n",
              "      <td>306396159</td>\n",
              "    </tr>\n",
              "    <tr>\n",
              "      <th>3</th>\n",
              "      <td>2004-08-25</td>\n",
              "      <td>2.614201</td>\n",
              "      <td>2.689918</td>\n",
              "      <td>2.587302</td>\n",
              "      <td>2.640104</td>\n",
              "      <td>2.640104</td>\n",
              "      <td>184645512</td>\n",
              "    </tr>\n",
              "    <tr>\n",
              "      <th>4</th>\n",
              "      <td>2004-08-26</td>\n",
              "      <td>2.613952</td>\n",
              "      <td>2.688672</td>\n",
              "      <td>2.606729</td>\n",
              "      <td>2.687676</td>\n",
              "      <td>2.687676</td>\n",
              "      <td>142572401</td>\n",
              "    </tr>\n",
              "  </tbody>\n",
              "</table>\n",
              "</div>\n",
              "      <button class=\"colab-df-convert\" onclick=\"convertToInteractive('df-f49c62ab-0ed0-473c-8a2c-09f0bc963d3b')\"\n",
              "              title=\"Convert this dataframe to an interactive table.\"\n",
              "              style=\"display:none;\">\n",
              "        \n",
              "  <svg xmlns=\"http://www.w3.org/2000/svg\" height=\"24px\"viewBox=\"0 0 24 24\"\n",
              "       width=\"24px\">\n",
              "    <path d=\"M0 0h24v24H0V0z\" fill=\"none\"/>\n",
              "    <path d=\"M18.56 5.44l.94 2.06.94-2.06 2.06-.94-2.06-.94-.94-2.06-.94 2.06-2.06.94zm-11 1L8.5 8.5l.94-2.06 2.06-.94-2.06-.94L8.5 2.5l-.94 2.06-2.06.94zm10 10l.94 2.06.94-2.06 2.06-.94-2.06-.94-.94-2.06-.94 2.06-2.06.94z\"/><path d=\"M17.41 7.96l-1.37-1.37c-.4-.4-.92-.59-1.43-.59-.52 0-1.04.2-1.43.59L10.3 9.45l-7.72 7.72c-.78.78-.78 2.05 0 2.83L4 21.41c.39.39.9.59 1.41.59.51 0 1.02-.2 1.41-.59l7.78-7.78 2.81-2.81c.8-.78.8-2.07 0-2.86zM5.41 20L4 18.59l7.72-7.72 1.47 1.35L5.41 20z\"/>\n",
              "  </svg>\n",
              "      </button>\n",
              "      \n",
              "  <style>\n",
              "    .colab-df-container {\n",
              "      display:flex;\n",
              "      flex-wrap:wrap;\n",
              "      gap: 12px;\n",
              "    }\n",
              "\n",
              "    .colab-df-convert {\n",
              "      background-color: #E8F0FE;\n",
              "      border: none;\n",
              "      border-radius: 50%;\n",
              "      cursor: pointer;\n",
              "      display: none;\n",
              "      fill: #1967D2;\n",
              "      height: 32px;\n",
              "      padding: 0 0 0 0;\n",
              "      width: 32px;\n",
              "    }\n",
              "\n",
              "    .colab-df-convert:hover {\n",
              "      background-color: #E2EBFA;\n",
              "      box-shadow: 0px 1px 2px rgba(60, 64, 67, 0.3), 0px 1px 3px 1px rgba(60, 64, 67, 0.15);\n",
              "      fill: #174EA6;\n",
              "    }\n",
              "\n",
              "    [theme=dark] .colab-df-convert {\n",
              "      background-color: #3B4455;\n",
              "      fill: #D2E3FC;\n",
              "    }\n",
              "\n",
              "    [theme=dark] .colab-df-convert:hover {\n",
              "      background-color: #434B5C;\n",
              "      box-shadow: 0px 1px 3px 1px rgba(0, 0, 0, 0.15);\n",
              "      filter: drop-shadow(0px 1px 2px rgba(0, 0, 0, 0.3));\n",
              "      fill: #FFFFFF;\n",
              "    }\n",
              "  </style>\n",
              "\n",
              "      <script>\n",
              "        const buttonEl =\n",
              "          document.querySelector('#df-f49c62ab-0ed0-473c-8a2c-09f0bc963d3b button.colab-df-convert');\n",
              "        buttonEl.style.display =\n",
              "          google.colab.kernel.accessAllowed ? 'block' : 'none';\n",
              "\n",
              "        async function convertToInteractive(key) {\n",
              "          const element = document.querySelector('#df-f49c62ab-0ed0-473c-8a2c-09f0bc963d3b');\n",
              "          const dataTable =\n",
              "            await google.colab.kernel.invokeFunction('convertToInteractive',\n",
              "                                                     [key], {});\n",
              "          if (!dataTable) return;\n",
              "\n",
              "          const docLinkHtml = 'Like what you see? Visit the ' +\n",
              "            '<a target=\"_blank\" href=https://colab.research.google.com/notebooks/data_table.ipynb>data table notebook</a>'\n",
              "            + ' to learn more about interactive tables.';\n",
              "          element.innerHTML = '';\n",
              "          dataTable['output_type'] = 'display_data';\n",
              "          await google.colab.output.renderOutput(dataTable, element);\n",
              "          const docLink = document.createElement('div');\n",
              "          docLink.innerHTML = docLinkHtml;\n",
              "          element.appendChild(docLink);\n",
              "        }\n",
              "      </script>\n",
              "    </div>\n",
              "  </div>\n",
              "  "
            ]
          },
          "metadata": {},
          "execution_count": 188
        }
      ]
    },
    {
      "cell_type": "markdown",
      "metadata": {
        "id": "8MwvfE0bgnwI"
      },
      "source": [
        "En los dataframe correpondientes a las acciones vamos a encontrar las siguientes variables. \n",
        "\n",
        "| Variable | Definición | valores |\n",
        "| --- | --- | --- | \n",
        "| Date | fecha de la transacción (diaría) | objeto | \n",
        "| Open  | Precio de apertura de la acción en la sesión actual | Númerico | \n",
        "| High | Máximo valor que toma la acción en la sesión actual | Númerico |\n",
        "| Low | Mínimo valor que toma la acción en la sesión actual | Númerico |  \n",
        "| Close | Precio de cierre de la acción (media de los precios de los últimos 10 min de la sesión actual) | Númerico |  \n",
        "| Adj Close | Precio de cierre de la acción (refleja una situación más real) | Númerico | \n",
        "| Volume | Cantidad de transacciones que se hicieron con la acción determinada en la sesión actual| Númerico |\n",
        "\n",
        "El siguiente dataframe es el reflejo de las operaciones diarias que se han registrado de la acción Netflix desde su lanzamiento en la bolsa"
      ]
    },
    {
      "cell_type": "code",
      "execution_count": null,
      "metadata": {
        "colab": {
          "base_uri": "https://localhost:8080/"
        },
        "id": "pVNjXKB7odjz",
        "outputId": "7dcfcdd9-524f-437d-9cbc-978500d1ee00"
      },
      "outputs": [
        {
          "output_type": "stream",
          "name": "stdout",
          "text": [
            "<class 'pandas.core.frame.DataFrame'>\n",
            "RangeIndex: 4676 entries, 0 to 4675\n",
            "Data columns (total 7 columns):\n",
            " #   Column     Non-Null Count  Dtype  \n",
            "---  ------     --------------  -----  \n",
            " 0   Date       4676 non-null   object \n",
            " 1   Open       4676 non-null   float64\n",
            " 2   High       4676 non-null   float64\n",
            " 3   Low        4676 non-null   float64\n",
            " 4   Close      4676 non-null   float64\n",
            " 5   Adj Close  4676 non-null   float64\n",
            " 6   Volume     4676 non-null   int64  \n",
            "dtypes: float64(5), int64(1), object(1)\n",
            "memory usage: 255.8+ KB\n"
          ]
        }
      ],
      "source": [
        "# Determinar el tipo de dato y las variables del dataframe\n",
        "# Cabe aclarar que no hay datos faltantes en su estado inicial.\n",
        "google.info()"
      ]
    },
    {
      "cell_type": "markdown",
      "metadata": {
        "id": "uKxEoWctinbX"
      },
      "source": [
        "El rendimiento de una inversión en diferentes marcos de tiempo es necesario para realizar un analísis aceptable y así poder tomar la decisión correcta. Para calcular el rendimiento definimos la función *marco_tiempo* que tiene como argumentos *data* y *marco_tiempo*, la primera variable toma el dataframe como valor y la segunda el marco de tiempo que se requira (día, mes, año) *'day'*, *'month* o *'year'*.\n",
        "\n",
        "Observe que los datos descargados tienen como marco de tiempo *día*"
      ]
    },
    {
      "cell_type": "markdown",
      "source": [
        "Los datos vienen por acción en un documento csv. Para Observar o realizar alguna conclusión superficial nos vamos a fijar en el valor de la variable **Adj Close**.\n",
        "\n",
        "Considere el siguiente ejemplo donde se toma la acción de google."
      ],
      "metadata": {
        "id": "C8hCwVqoYrAi"
      }
    },
    {
      "cell_type": "code",
      "source": [
        "google['Adj Close'].agg(['max', 'min', 'mean'])"
      ],
      "metadata": {
        "colab": {
          "base_uri": "https://localhost:8080/"
        },
        "id": "9gnIE1SAYC-_",
        "outputId": "7e0381b4-126b-4684-ac35-f7120497acbf"
      },
      "execution_count": null,
      "outputs": [
        {
          "output_type": "execute_result",
          "data": {
            "text/plain": [
              "max     150.709000\n",
              "min       2.490913\n",
              "mean     38.273471\n",
              "Name: Adj Close, dtype: float64"
            ]
          },
          "metadata": {},
          "execution_count": 190
        }
      ]
    },
    {
      "cell_type": "code",
      "source": [
        "fig = plt.figure()\n",
        "ax = fig.add_subplot(1, 1, 1)\n",
        "ax = fig.add_axes([0, 0, 1.5, 1.5])\n",
        "\n",
        "ax.plot(google['Adj Close'], 'b--', label = 'Google')\n",
        "\n",
        "\n",
        "ax.legend()\n",
        "#plt.gca().yaxis.set_major_formatter(mtick.PercentFormatter(xmax=1.0))\n",
        "ax.set_xlabel('Marco de tiempo - diario')\n",
        "ax.set_ylabel('Adj CLose')\n",
        "ax.set_title('RENDIMIENTO DIARIO - Google')"
      ],
      "metadata": {
        "colab": {
          "base_uri": "https://localhost:8080/",
          "height": 527
        },
        "id": "-_IXWPGWZIDN",
        "outputId": "2121f737-b052-4e3b-a67e-866682a65789"
      },
      "execution_count": null,
      "outputs": [
        {
          "output_type": "execute_result",
          "data": {
            "text/plain": [
              "Text(0.5, 1.0, 'RENDIMIENTO DIARIO - Google')"
            ]
          },
          "metadata": {},
          "execution_count": 191
        },
        {
          "output_type": "display_data",
          "data": {
            "text/plain": [
              "<Figure size 432x288 with 2 Axes>"
            ],
            "image/png": "[encoded data removed]"
          },
          "metadata": {
            "needs_background": "light"
          }
        }
      ]
    },
    {
      "cell_type": "markdown",
      "source": [
        "Al observar la gráfica vemos el comportamiento de el valor de cierre ajustado (Adj Close) de la acción Google. Se puede observar que no aporta mucho poara tommar una buena decisión acerca de incluirla o no, claramente se ve que ha amentado su valor pero también ha tenido fuertes retrocesos. Para realizar un estudio adecuado vamos a definir algunas funciones que permitan tomar los rendimientos en diferentes marcos de tiempo, y posterior a eso realizar un análisis con algunas herramientas de la estadística descriptiva."
      ],
      "metadata": {
        "id": "d1GEFa6IZv5n"
      }
    },
    {
      "cell_type": "markdown",
      "metadata": {
        "id": "U-SDbbEPonJs"
      },
      "source": [
        "El rendimiento o tasa de retorno (RoR) de una acción es la gananacia o pérdida neta de la inversión realizada durante un determinado periodo de tiempo (marco de tiempo). El rendimiento se peede calcular de la siguiente manera. \n",
        "\n",
        "$$RoR = \\frac{precio\\ actual}{precio\\ inicial} -1$$\n",
        "\n",
        "Es decir,\n",
        "\n",
        "$$ R_i = \\frac{P_i}{P_{i-1}} - 1$$\n",
        "\n",
        "Existe otro proceso para calcular el rendimiento. Este proceso se conoce como  rentabilidad logarítmica, en términos aplicativos resulta ser más efectivo por eficiencia computacional. La fórmula tiene la siguiente expresión:\n",
        "\n",
        "$$R_{log} = log\\left(\\frac{P_i}{P_{i-1}}\\right)$$\n",
        "\n",
        "Nota: El periodo podría ser un día, una semana, un mes, un año o un intervalo de tiempo. El precio actual es el valor Adj Close en la observación actual y el precio inicial será el de la observación anterior."
      ]
    },
    {
      "cell_type": "markdown",
      "source": [
        "Antes de continuar, haremos una limpieza de los datos, por ejemplo, eliminar la columna *volume* y modificar el nombre de la variable *Adj Close*."
      ],
      "metadata": {
        "id": "GRlfa2QXj0tG"
      }
    },
    {
      "cell_type": "code",
      "source": [
        "\n",
        "def cleandata(data):\n",
        "    # Colocamos el indice la fecha \n",
        "    data = data.set_index('Date')\n",
        "    # Eliminamos la columna volume\n",
        "    data = data.drop('Volume', axis = 1)\n",
        "    # Cambiamos de nombre la columna Adj Close para manipulaciones posteriores\n",
        "    data = data.rename(columns = {'Adj Close': 'AdjClose'})\n",
        "    data = data\n",
        "    return data\n",
        "\n",
        "google = cleandata(google)\n",
        "amazon = cleandata(amazon)\n",
        "apple = cleandata(apple)\n",
        "netflix = cleandata(netflix)"
      ],
      "metadata": {
        "id": "Oik-5pWajzi9"
      },
      "execution_count": null,
      "outputs": []
    },
    {
      "cell_type": "code",
      "execution_count": null,
      "metadata": {
        "id": "vr5Nduk2dJSr"
      },
      "outputs": [],
      "source": [
        "# función que retorna los marcos de tiempo (día, mes, año)\n",
        "def marco_tiempo(data, marcodetiempo):\n",
        "    data.index = pd.to_datetime(data.index)\n",
        "    if marcodetiempo == 'day':\n",
        "        data = data\n",
        "\n",
        "    elif marcodetiempo == 'month':\n",
        "        data = data[(data.index.is_month_end)]\n",
        "    elif marcodetiempo == 'year':\n",
        "        data = data[data.index.is_year_end]\n",
        "    \n",
        "    return data"
      ]
    },
    {
      "cell_type": "code",
      "execution_count": null,
      "metadata": {
        "id": "7q6p5B9_omv2"
      },
      "outputs": [],
      "source": [
        "# La función **ror** devuelve el dataframe con la columna *Return_ticker* (ticker es la abreviación de la acción en la bolsa de valores)\n",
        "# ticker debe ser tipo string\n",
        "def ror(data, ticker):\n",
        "    data = data.add_suffix('_'+ticker)\n",
        "    data['Return_'+ticker] = ((data['AdjClose_'+ticker]/data['AdjClose_'+ticker].shift(1)) - 1)\n",
        "    return data.dropna() "
      ]
    },
    {
      "cell_type": "code",
      "execution_count": null,
      "metadata": {
        "id": "hvkuW-e4dWej"
      },
      "outputs": [],
      "source": [
        "# La fución **rorlog** devuelve un dataframe con la columna *Return_ticker* (en este caso se aplica la función R_log definida anteriormente)\n",
        "def rorlog(data, ticker):\n",
        "    data = data.add_suffix('_'+ticker)\n",
        "    data['Return_'+ticker] = np.log(data['AdjClose_'+ticker]/data['AdjClose_'+ticker].shift(1))\n",
        "    return data.dropna()"
      ]
    },
    {
      "cell_type": "markdown",
      "metadata": {
        "id": "HN2j6sxdnGNc"
      },
      "source": [
        "A continuación vamos a calcular los rendimientos de las *AANG*, posteriormente se estudiará si existe alguna relación entre los rendimientos correspondientes. \n",
        "\n",
        "Hay que tener en cuenta que acciones como *Apple* y *Amazon* iniciaron su participación en los años 80 y 90 respectivamente. En algunos casos será necesario realizar un analísis desde la fecha de participación común de las empresas en el mercado financiero de las acciones."
      ]
    },
    {
      "cell_type": "code",
      "execution_count": null,
      "metadata": {
        "colab": {
          "base_uri": "https://localhost:8080/",
          "height": 238
        },
        "id": "Wa49AcKekG0B",
        "outputId": "a0f2feee-916c-4e67-bbfa-e2fe4c7bbe99"
      },
      "outputs": [
        {
          "output_type": "execute_result",
          "data": {
            "text/plain": [
              "            Open_aapl  High_aapl  Low_aapl  Close_aapl  AdjClose_aapl  \\\n",
              "Date                                                                    \n",
              "1980-12-16   0.113281   0.113281  0.112723    0.112723       0.087582   \n",
              "1980-12-17   0.115513   0.116071  0.115513    0.115513       0.089749   \n",
              "1980-12-18   0.118862   0.119420  0.118862    0.118862       0.092351   \n",
              "1980-12-19   0.126116   0.126674  0.126116    0.126116       0.097987   \n",
              "1980-12-22   0.132254   0.132813  0.132254    0.132254       0.102756   \n",
              "\n",
              "            Return_aapl  \n",
              "Date                     \n",
              "1980-12-16    -0.076225  \n",
              "1980-12-17     0.024441  \n",
              "1980-12-18     0.028580  \n",
              "1980-12-19     0.059238  \n",
              "1980-12-22     0.047522  "
            ],
            "text/html": [
              "\n",
              "  <div id=\"df-d3e63da3-87c6-481f-bcbf-bdcf2da4b93d\">\n",
              "    <div class=\"colab-df-container\">\n",
              "      <div>\n",
              "<style scoped>\n",
              "    .dataframe tbody tr th:only-of-type {\n",
              "        vertical-align: middle;\n",
              "    }\n",
              "\n",
              "    .dataframe tbody tr th {\n",
              "        vertical-align: top;\n",
              "    }\n",
              "\n",
              "    .dataframe thead th {\n",
              "        text-align: right;\n",
              "    }\n",
              "</style>\n",
              "<table border=\"1\" class=\"dataframe\">\n",
              "  <thead>\n",
              "    <tr style=\"text-align: right;\">\n",
              "      <th></th>\n",
              "      <th>Open_aapl</th>\n",
              "      <th>High_aapl</th>\n",
              "      <th>Low_aapl</th>\n",
              "      <th>Close_aapl</th>\n",
              "      <th>AdjClose_aapl</th>\n",
              "      <th>Return_aapl</th>\n",
              "    </tr>\n",
              "    <tr>\n",
              "      <th>Date</th>\n",
              "      <th></th>\n",
              "      <th></th>\n",
              "      <th></th>\n",
              "      <th></th>\n",
              "      <th></th>\n",
              "      <th></th>\n",
              "    </tr>\n",
              "  </thead>\n",
              "  <tbody>\n",
              "    <tr>\n",
              "      <th>1980-12-16</th>\n",
              "      <td>0.113281</td>\n",
              "      <td>0.113281</td>\n",
              "      <td>0.112723</td>\n",
              "      <td>0.112723</td>\n",
              "      <td>0.087582</td>\n",
              "      <td>-0.076225</td>\n",
              "    </tr>\n",
              "    <tr>\n",
              "      <th>1980-12-17</th>\n",
              "      <td>0.115513</td>\n",
              "      <td>0.116071</td>\n",
              "      <td>0.115513</td>\n",
              "      <td>0.115513</td>\n",
              "      <td>0.089749</td>\n",
              "      <td>0.024441</td>\n",
              "    </tr>\n",
              "    <tr>\n",
              "      <th>1980-12-18</th>\n",
              "      <td>0.118862</td>\n",
              "      <td>0.119420</td>\n",
              "      <td>0.118862</td>\n",
              "      <td>0.118862</td>\n",
              "      <td>0.092351</td>\n",
              "      <td>0.028580</td>\n",
              "    </tr>\n",
              "    <tr>\n",
              "      <th>1980-12-19</th>\n",
              "      <td>0.126116</td>\n",
              "      <td>0.126674</td>\n",
              "      <td>0.126116</td>\n",
              "      <td>0.126116</td>\n",
              "      <td>0.097987</td>\n",
              "      <td>0.059238</td>\n",
              "    </tr>\n",
              "    <tr>\n",
              "      <th>1980-12-22</th>\n",
              "      <td>0.132254</td>\n",
              "      <td>0.132813</td>\n",
              "      <td>0.132254</td>\n",
              "      <td>0.132254</td>\n",
              "      <td>0.102756</td>\n",
              "      <td>0.047522</td>\n",
              "    </tr>\n",
              "  </tbody>\n",
              "</table>\n",
              "</div>\n",
              "      <button class=\"colab-df-convert\" onclick=\"convertToInteractive('df-d3e63da3-87c6-481f-bcbf-bdcf2da4b93d')\"\n",
              "              title=\"Convert this dataframe to an interactive table.\"\n",
              "              style=\"display:none;\">\n",
              "        \n",
              "  <svg xmlns=\"http://www.w3.org/2000/svg\" height=\"24px\"viewBox=\"0 0 24 24\"\n",
              "       width=\"24px\">\n",
              "    <path d=\"M0 0h24v24H0V0z\" fill=\"none\"/>\n",
              "    <path d=\"M18.56 5.44l.94 2.06.94-2.06 2.06-.94-2.06-.94-.94-2.06-.94 2.06-2.06.94zm-11 1L8.5 8.5l.94-2.06 2.06-.94-2.06-.94L8.5 2.5l-.94 2.06-2.06.94zm10 10l.94 2.06.94-2.06 2.06-.94-2.06-.94-.94-2.06-.94 2.06-2.06.94z\"/><path d=\"M17.41 7.96l-1.37-1.37c-.4-.4-.92-.59-1.43-.59-.52 0-1.04.2-1.43.59L10.3 9.45l-7.72 7.72c-.78.78-.78 2.05 0 2.83L4 21.41c.39.39.9.59 1.41.59.51 0 1.02-.2 1.41-.59l7.78-7.78 2.81-2.81c.8-.78.8-2.07 0-2.86zM5.41 20L4 18.59l7.72-7.72 1.47 1.35L5.41 20z\"/>\n",
              "  </svg>\n",
              "      </button>\n",
              "      \n",
              "  <style>\n",
              "    .colab-df-container {\n",
              "      display:flex;\n",
              "      flex-wrap:wrap;\n",
              "      gap: 12px;\n",
              "    }\n",
              "\n",
              "    .colab-df-convert {\n",
              "      background-color: #E8F0FE;\n",
              "      border: none;\n",
              "      border-radius: 50%;\n",
              "      cursor: pointer;\n",
              "      display: none;\n",
              "      fill: #1967D2;\n",
              "      height: 32px;\n",
              "      padding: 0 0 0 0;\n",
              "      width: 32px;\n",
              "    }\n",
              "\n",
              "    .colab-df-convert:hover {\n",
              "      background-color: #E2EBFA;\n",
              "      box-shadow: 0px 1px 2px rgba(60, 64, 67, 0.3), 0px 1px 3px 1px rgba(60, 64, 67, 0.15);\n",
              "      fill: #174EA6;\n",
              "    }\n",
              "\n",
              "    [theme=dark] .colab-df-convert {\n",
              "      background-color: #3B4455;\n",
              "      fill: #D2E3FC;\n",
              "    }\n",
              "\n",
              "    [theme=dark] .colab-df-convert:hover {\n",
              "      background-color: #434B5C;\n",
              "      box-shadow: 0px 1px 3px 1px rgba(0, 0, 0, 0.15);\n",
              "      filter: drop-shadow(0px 1px 2px rgba(0, 0, 0, 0.3));\n",
              "      fill: #FFFFFF;\n",
              "    }\n",
              "  </style>\n",
              "\n",
              "      <script>\n",
              "        const buttonEl =\n",
              "          document.querySelector('#df-d3e63da3-87c6-481f-bcbf-bdcf2da4b93d button.colab-df-convert');\n",
              "        buttonEl.style.display =\n",
              "          google.colab.kernel.accessAllowed ? 'block' : 'none';\n",
              "\n",
              "        async function convertToInteractive(key) {\n",
              "          const element = document.querySelector('#df-d3e63da3-87c6-481f-bcbf-bdcf2da4b93d');\n",
              "          const dataTable =\n",
              "            await google.colab.kernel.invokeFunction('convertToInteractive',\n",
              "                                                     [key], {});\n",
              "          if (!dataTable) return;\n",
              "\n",
              "          const docLinkHtml = 'Like what you see? Visit the ' +\n",
              "            '<a target=\"_blank\" href=https://colab.research.google.com/notebooks/data_table.ipynb>data table notebook</a>'\n",
              "            + ' to learn more about interactive tables.';\n",
              "          element.innerHTML = '';\n",
              "          dataTable['output_type'] = 'display_data';\n",
              "          await google.colab.output.renderOutput(dataTable, element);\n",
              "          const docLink = document.createElement('div');\n",
              "          docLink.innerHTML = docLinkHtml;\n",
              "          element.appendChild(docLink);\n",
              "        }\n",
              "      </script>\n",
              "    </div>\n",
              "  </div>\n",
              "  "
            ]
          },
          "metadata": {},
          "execution_count": 196
        }
      ],
      "source": [
        "# Ejemplo: Apple con marco de tiempo diario (sin el uso de la función **marco_tiempo**)\n",
        "rorlog(apple, 'aapl').head()"
      ]
    },
    {
      "cell_type": "code",
      "execution_count": null,
      "metadata": {
        "colab": {
          "base_uri": "https://localhost:8080/",
          "height": 238
        },
        "id": "035j45i_kkor",
        "outputId": "d27d3686-4524-4d6a-ed1c-a07224b3c93e"
      },
      "outputs": [
        {
          "output_type": "execute_result",
          "data": {
            "text/plain": [
              "            Open_aapl  High_aapl  Low_aapl  Close_aapl  AdjClose_aapl  \\\n",
              "Date                                                                    \n",
              "2004-09-30   3.235373   3.295149  3.212957    3.227901       3.227901   \n",
              "2004-11-30   4.500880   4.557916  4.489423    4.532511       4.532511   \n",
              "2004-12-31   4.962151   4.978340  4.796023    4.801752       4.801752   \n",
              "2005-01-31   4.824168   4.890669  4.775102    4.872238       4.872238   \n",
              "2005-02-28   4.632636   4.729024  4.628900    4.682200       4.682200   \n",
              "\n",
              "            Return_aapl  \n",
              "Date                     \n",
              "2004-09-30     0.235859  \n",
              "2004-11-30     0.339444  \n",
              "2004-12-31     0.057705  \n",
              "2005-01-31     0.014573  \n",
              "2005-02-28    -0.039785  "
            ],
            "text/html": [
              "\n",
              "  <div id=\"df-71542d02-2283-44b8-a365-b9a9e4f6b477\">\n",
              "    <div class=\"colab-df-container\">\n",
              "      <div>\n",
              "<style scoped>\n",
              "    .dataframe tbody tr th:only-of-type {\n",
              "        vertical-align: middle;\n",
              "    }\n",
              "\n",
              "    .dataframe tbody tr th {\n",
              "        vertical-align: top;\n",
              "    }\n",
              "\n",
              "    .dataframe thead th {\n",
              "        text-align: right;\n",
              "    }\n",
              "</style>\n",
              "<table border=\"1\" class=\"dataframe\">\n",
              "  <thead>\n",
              "    <tr style=\"text-align: right;\">\n",
              "      <th></th>\n",
              "      <th>Open_aapl</th>\n",
              "      <th>High_aapl</th>\n",
              "      <th>Low_aapl</th>\n",
              "      <th>Close_aapl</th>\n",
              "      <th>AdjClose_aapl</th>\n",
              "      <th>Return_aapl</th>\n",
              "    </tr>\n",
              "    <tr>\n",
              "      <th>Date</th>\n",
              "      <th></th>\n",
              "      <th></th>\n",
              "      <th></th>\n",
              "      <th></th>\n",
              "      <th></th>\n",
              "      <th></th>\n",
              "    </tr>\n",
              "  </thead>\n",
              "  <tbody>\n",
              "    <tr>\n",
              "      <th>2004-09-30</th>\n",
              "      <td>3.235373</td>\n",
              "      <td>3.295149</td>\n",
              "      <td>3.212957</td>\n",
              "      <td>3.227901</td>\n",
              "      <td>3.227901</td>\n",
              "      <td>0.235859</td>\n",
              "    </tr>\n",
              "    <tr>\n",
              "      <th>2004-11-30</th>\n",
              "      <td>4.500880</td>\n",
              "      <td>4.557916</td>\n",
              "      <td>4.489423</td>\n",
              "      <td>4.532511</td>\n",
              "      <td>4.532511</td>\n",
              "      <td>0.339444</td>\n",
              "    </tr>\n",
              "    <tr>\n",
              "      <th>2004-12-31</th>\n",
              "      <td>4.962151</td>\n",
              "      <td>4.978340</td>\n",
              "      <td>4.796023</td>\n",
              "      <td>4.801752</td>\n",
              "      <td>4.801752</td>\n",
              "      <td>0.057705</td>\n",
              "    </tr>\n",
              "    <tr>\n",
              "      <th>2005-01-31</th>\n",
              "      <td>4.824168</td>\n",
              "      <td>4.890669</td>\n",
              "      <td>4.775102</td>\n",
              "      <td>4.872238</td>\n",
              "      <td>4.872238</td>\n",
              "      <td>0.014573</td>\n",
              "    </tr>\n",
              "    <tr>\n",
              "      <th>2005-02-28</th>\n",
              "      <td>4.632636</td>\n",
              "      <td>4.729024</td>\n",
              "      <td>4.628900</td>\n",
              "      <td>4.682200</td>\n",
              "      <td>4.682200</td>\n",
              "      <td>-0.039785</td>\n",
              "    </tr>\n",
              "  </tbody>\n",
              "</table>\n",
              "</div>\n",
              "      <button class=\"colab-df-convert\" onclick=\"convertToInteractive('df-71542d02-2283-44b8-a365-b9a9e4f6b477')\"\n",
              "              title=\"Convert this dataframe to an interactive table.\"\n",
              "              style=\"display:none;\">\n",
              "        \n",
              "  <svg xmlns=\"http://www.w3.org/2000/svg\" height=\"24px\"viewBox=\"0 0 24 24\"\n",
              "       width=\"24px\">\n",
              "    <path d=\"M0 0h24v24H0V0z\" fill=\"none\"/>\n",
              "    <path d=\"M18.56 5.44l.94 2.06.94-2.06 2.06-.94-2.06-.94-.94-2.06-.94 2.06-2.06.94zm-11 1L8.5 8.5l.94-2.06 2.06-.94-2.06-.94L8.5 2.5l-.94 2.06-2.06.94zm10 10l.94 2.06.94-2.06 2.06-.94-2.06-.94-.94-2.06-.94 2.06-2.06.94z\"/><path d=\"M17.41 7.96l-1.37-1.37c-.4-.4-.92-.59-1.43-.59-.52 0-1.04.2-1.43.59L10.3 9.45l-7.72 7.72c-.78.78-.78 2.05 0 2.83L4 21.41c.39.39.9.59 1.41.59.51 0 1.02-.2 1.41-.59l7.78-7.78 2.81-2.81c.8-.78.8-2.07 0-2.86zM5.41 20L4 18.59l7.72-7.72 1.47 1.35L5.41 20z\"/>\n",
              "  </svg>\n",
              "      </button>\n",
              "      \n",
              "  <style>\n",
              "    .colab-df-container {\n",
              "      display:flex;\n",
              "      flex-wrap:wrap;\n",
              "      gap: 12px;\n",
              "    }\n",
              "\n",
              "    .colab-df-convert {\n",
              "      background-color: #E8F0FE;\n",
              "      border: none;\n",
              "      border-radius: 50%;\n",
              "      cursor: pointer;\n",
              "      display: none;\n",
              "      fill: #1967D2;\n",
              "      height: 32px;\n",
              "      padding: 0 0 0 0;\n",
              "      width: 32px;\n",
              "    }\n",
              "\n",
              "    .colab-df-convert:hover {\n",
              "      background-color: #E2EBFA;\n",
              "      box-shadow: 0px 1px 2px rgba(60, 64, 67, 0.3), 0px 1px 3px 1px rgba(60, 64, 67, 0.15);\n",
              "      fill: #174EA6;\n",
              "    }\n",
              "\n",
              "    [theme=dark] .colab-df-convert {\n",
              "      background-color: #3B4455;\n",
              "      fill: #D2E3FC;\n",
              "    }\n",
              "\n",
              "    [theme=dark] .colab-df-convert:hover {\n",
              "      background-color: #434B5C;\n",
              "      box-shadow: 0px 1px 3px 1px rgba(0, 0, 0, 0.15);\n",
              "      filter: drop-shadow(0px 1px 2px rgba(0, 0, 0, 0.3));\n",
              "      fill: #FFFFFF;\n",
              "    }\n",
              "  </style>\n",
              "\n",
              "      <script>\n",
              "        const buttonEl =\n",
              "          document.querySelector('#df-71542d02-2283-44b8-a365-b9a9e4f6b477 button.colab-df-convert');\n",
              "        buttonEl.style.display =\n",
              "          google.colab.kernel.accessAllowed ? 'block' : 'none';\n",
              "\n",
              "        async function convertToInteractive(key) {\n",
              "          const element = document.querySelector('#df-71542d02-2283-44b8-a365-b9a9e4f6b477');\n",
              "          const dataTable =\n",
              "            await google.colab.kernel.invokeFunction('convertToInteractive',\n",
              "                                                     [key], {});\n",
              "          if (!dataTable) return;\n",
              "\n",
              "          const docLinkHtml = 'Like what you see? Visit the ' +\n",
              "            '<a target=\"_blank\" href=https://colab.research.google.com/notebooks/data_table.ipynb>data table notebook</a>'\n",
              "            + ' to learn more about interactive tables.';\n",
              "          element.innerHTML = '';\n",
              "          dataTable['output_type'] = 'display_data';\n",
              "          await google.colab.output.renderOutput(dataTable, element);\n",
              "          const docLink = document.createElement('div');\n",
              "          docLink.innerHTML = docLinkHtml;\n",
              "          element.appendChild(docLink);\n",
              "        }\n",
              "      </script>\n",
              "    </div>\n",
              "  </div>\n",
              "  "
            ]
          },
          "metadata": {},
          "execution_count": 197
        }
      ],
      "source": [
        "# Ejemplo: Google con marco de tiempo mensual (uso de la función **marco_tiempo**)\n",
        "rorlog(marco_tiempo(google, 'month'), 'aapl').head()"
      ]
    },
    {
      "cell_type": "code",
      "execution_count": null,
      "metadata": {
        "colab": {
          "base_uri": "https://localhost:8080/",
          "height": 238
        },
        "id": "dQR8uJxKk-Oo",
        "outputId": "7578b046-76b9-4854-8d73-fc98842e75a8"
      },
      "outputs": [
        {
          "output_type": "execute_result",
          "data": {
            "text/plain": [
              "            Open_goog  High_goog   Low_goog  Close_goog  AdjClose_goog  \\\n",
              "Date                                                                     \n",
              "2007-12-31  17.399035  17.496668  17.200029   17.222446      17.222446   \n",
              "2008-12-31   7.576601   7.745966   7.536999    7.662529       7.662529   \n",
              "2009-12-31  15.560426  15.576615  15.441621   15.441621      15.441621   \n",
              "2010-12-31  14.862791  14.904634  14.745480   14.793799      14.793799   \n",
              "2012-12-31  17.434650  17.697914  17.335024   17.618462      17.618462   \n",
              "\n",
              "            Return_goog  \n",
              "Date                     \n",
              "2007-12-31     1.277233  \n",
              "2008-12-31    -0.809871  \n",
              "2009-12-31     0.700724  \n",
              "2010-12-31    -0.042858  \n",
              "2012-12-31     0.174739  "
            ],
            "text/html": [
              "\n",
              "  <div id=\"df-699a0b22-87c9-408a-8b56-21c88615f67d\">\n",
              "    <div class=\"colab-df-container\">\n",
              "      <div>\n",
              "<style scoped>\n",
              "    .dataframe tbody tr th:only-of-type {\n",
              "        vertical-align: middle;\n",
              "    }\n",
              "\n",
              "    .dataframe tbody tr th {\n",
              "        vertical-align: top;\n",
              "    }\n",
              "\n",
              "    .dataframe thead th {\n",
              "        text-align: right;\n",
              "    }\n",
              "</style>\n",
              "<table border=\"1\" class=\"dataframe\">\n",
              "  <thead>\n",
              "    <tr style=\"text-align: right;\">\n",
              "      <th></th>\n",
              "      <th>Open_goog</th>\n",
              "      <th>High_goog</th>\n",
              "      <th>Low_goog</th>\n",
              "      <th>Close_goog</th>\n",
              "      <th>AdjClose_goog</th>\n",
              "      <th>Return_goog</th>\n",
              "    </tr>\n",
              "    <tr>\n",
              "      <th>Date</th>\n",
              "      <th></th>\n",
              "      <th></th>\n",
              "      <th></th>\n",
              "      <th></th>\n",
              "      <th></th>\n",
              "      <th></th>\n",
              "    </tr>\n",
              "  </thead>\n",
              "  <tbody>\n",
              "    <tr>\n",
              "      <th>2007-12-31</th>\n",
              "      <td>17.399035</td>\n",
              "      <td>17.496668</td>\n",
              "      <td>17.200029</td>\n",
              "      <td>17.222446</td>\n",
              "      <td>17.222446</td>\n",
              "      <td>1.277233</td>\n",
              "    </tr>\n",
              "    <tr>\n",
              "      <th>2008-12-31</th>\n",
              "      <td>7.576601</td>\n",
              "      <td>7.745966</td>\n",
              "      <td>7.536999</td>\n",
              "      <td>7.662529</td>\n",
              "      <td>7.662529</td>\n",
              "      <td>-0.809871</td>\n",
              "    </tr>\n",
              "    <tr>\n",
              "      <th>2009-12-31</th>\n",
              "      <td>15.560426</td>\n",
              "      <td>15.576615</td>\n",
              "      <td>15.441621</td>\n",
              "      <td>15.441621</td>\n",
              "      <td>15.441621</td>\n",
              "      <td>0.700724</td>\n",
              "    </tr>\n",
              "    <tr>\n",
              "      <th>2010-12-31</th>\n",
              "      <td>14.862791</td>\n",
              "      <td>14.904634</td>\n",
              "      <td>14.745480</td>\n",
              "      <td>14.793799</td>\n",
              "      <td>14.793799</td>\n",
              "      <td>-0.042858</td>\n",
              "    </tr>\n",
              "    <tr>\n",
              "      <th>2012-12-31</th>\n",
              "      <td>17.434650</td>\n",
              "      <td>17.697914</td>\n",
              "      <td>17.335024</td>\n",
              "      <td>17.618462</td>\n",
              "      <td>17.618462</td>\n",
              "      <td>0.174739</td>\n",
              "    </tr>\n",
              "  </tbody>\n",
              "</table>\n",
              "</div>\n",
              "      <button class=\"colab-df-convert\" onclick=\"convertToInteractive('df-699a0b22-87c9-408a-8b56-21c88615f67d')\"\n",
              "              title=\"Convert this dataframe to an interactive table.\"\n",
              "              style=\"display:none;\">\n",
              "        \n",
              "  <svg xmlns=\"http://www.w3.org/2000/svg\" height=\"24px\"viewBox=\"0 0 24 24\"\n",
              "       width=\"24px\">\n",
              "    <path d=\"M0 0h24v24H0V0z\" fill=\"none\"/>\n",
              "    <path d=\"M18.56 5.44l.94 2.06.94-2.06 2.06-.94-2.06-.94-.94-2.06-.94 2.06-2.06.94zm-11 1L8.5 8.5l.94-2.06 2.06-.94-2.06-.94L8.5 2.5l-.94 2.06-2.06.94zm10 10l.94 2.06.94-2.06 2.06-.94-2.06-.94-.94-2.06-.94 2.06-2.06.94z\"/><path d=\"M17.41 7.96l-1.37-1.37c-.4-.4-.92-.59-1.43-.59-.52 0-1.04.2-1.43.59L10.3 9.45l-7.72 7.72c-.78.78-.78 2.05 0 2.83L4 21.41c.39.39.9.59 1.41.59.51 0 1.02-.2 1.41-.59l7.78-7.78 2.81-2.81c.8-.78.8-2.07 0-2.86zM5.41 20L4 18.59l7.72-7.72 1.47 1.35L5.41 20z\"/>\n",
              "  </svg>\n",
              "      </button>\n",
              "      \n",
              "  <style>\n",
              "    .colab-df-container {\n",
              "      display:flex;\n",
              "      flex-wrap:wrap;\n",
              "      gap: 12px;\n",
              "    }\n",
              "\n",
              "    .colab-df-convert {\n",
              "      background-color: #E8F0FE;\n",
              "      border: none;\n",
              "      border-radius: 50%;\n",
              "      cursor: pointer;\n",
              "      display: none;\n",
              "      fill: #1967D2;\n",
              "      height: 32px;\n",
              "      padding: 0 0 0 0;\n",
              "      width: 32px;\n",
              "    }\n",
              "\n",
              "    .colab-df-convert:hover {\n",
              "      background-color: #E2EBFA;\n",
              "      box-shadow: 0px 1px 2px rgba(60, 64, 67, 0.3), 0px 1px 3px 1px rgba(60, 64, 67, 0.15);\n",
              "      fill: #174EA6;\n",
              "    }\n",
              "\n",
              "    [theme=dark] .colab-df-convert {\n",
              "      background-color: #3B4455;\n",
              "      fill: #D2E3FC;\n",
              "    }\n",
              "\n",
              "    [theme=dark] .colab-df-convert:hover {\n",
              "      background-color: #434B5C;\n",
              "      box-shadow: 0px 1px 3px 1px rgba(0, 0, 0, 0.15);\n",
              "      filter: drop-shadow(0px 1px 2px rgba(0, 0, 0, 0.3));\n",
              "      fill: #FFFFFF;\n",
              "    }\n",
              "  </style>\n",
              "\n",
              "      <script>\n",
              "        const buttonEl =\n",
              "          document.querySelector('#df-699a0b22-87c9-408a-8b56-21c88615f67d button.colab-df-convert');\n",
              "        buttonEl.style.display =\n",
              "          google.colab.kernel.accessAllowed ? 'block' : 'none';\n",
              "\n",
              "        async function convertToInteractive(key) {\n",
              "          const element = document.querySelector('#df-699a0b22-87c9-408a-8b56-21c88615f67d');\n",
              "          const dataTable =\n",
              "            await google.colab.kernel.invokeFunction('convertToInteractive',\n",
              "                                                     [key], {});\n",
              "          if (!dataTable) return;\n",
              "\n",
              "          const docLinkHtml = 'Like what you see? Visit the ' +\n",
              "            '<a target=\"_blank\" href=https://colab.research.google.com/notebooks/data_table.ipynb>data table notebook</a>'\n",
              "            + ' to learn more about interactive tables.';\n",
              "          element.innerHTML = '';\n",
              "          dataTable['output_type'] = 'display_data';\n",
              "          await google.colab.output.renderOutput(dataTable, element);\n",
              "          const docLink = document.createElement('div');\n",
              "          docLink.innerHTML = docLinkHtml;\n",
              "          element.appendChild(docLink);\n",
              "        }\n",
              "      </script>\n",
              "    </div>\n",
              "  </div>\n",
              "  "
            ]
          },
          "metadata": {},
          "execution_count": 198
        }
      ],
      "source": [
        "# Ejemplo: Google con marco de tiempo anual (uso de la función **marco_tiempo**)\n",
        "rorlog(marco_tiempo(google, 'year'), 'goog').head()"
      ]
    },
    {
      "cell_type": "markdown",
      "metadata": {
        "id": "ArOD7SoupgjZ"
      },
      "source": [
        "Para analizar los rendimientos de las acciones en un solo dataframe definimos la función *dataconcat* que toma como argumento una lista de las acciones con su respectivo marco de tiempo y las concatena teniendo como referencia las fechas donde se han realizado operaciones comunes."
      ]
    },
    {
      "cell_type": "code",
      "execution_count": null,
      "metadata": {
        "id": "oPZjJDMStZdj"
      },
      "outputs": [],
      "source": [
        "def dataconcat(lista):\n",
        "    data_return = pd.concat(lista, axis = 1).dropna()\n",
        "    return data_return"
      ]
    },
    {
      "cell_type": "code",
      "execution_count": null,
      "metadata": {
        "id": "lgcNZPFkPfBt"
      },
      "outputs": [],
      "source": [
        "# Se muestran los retornos de Apple, Amazon y Google en marco de tiempo diario.\n",
        "acciones_dia = [rorlog(marco_tiempo(apple, 'day'), 'aapl')['Return_aapl'], rorlog(marco_tiempo(amazon, 'day'), 'amzn')['Return_amzn'], \n",
        "            rorlog(marco_tiempo(google, 'day'), 'goog')['Return_goog'], rorlog(marco_tiempo(netflix, 'day'), 'nflx')['Return_nflx']]\n",
        "data_0 = dataconcat(acciones_dia)"
      ]
    },
    {
      "cell_type": "code",
      "execution_count": null,
      "metadata": {
        "id": "icROJk82nNqW"
      },
      "outputs": [],
      "source": [
        "# Se muestran los retornos de Apple, Amazon y Google en marco de tiempo mensual.\n",
        "acciones_mes = [rorlog(marco_tiempo(apple, 'month'), 'aapl')['Return_aapl'], rorlog(marco_tiempo(amazon, 'month'), 'amzn')['Return_amzn'], \n",
        "            rorlog(marco_tiempo(google, 'month'), 'goog')['Return_goog'], rorlog(marco_tiempo(netflix, 'month'), 'nflx')['Return_nflx']]\n",
        "data_1 = dataconcat(acciones_mes)"
      ]
    },
    {
      "cell_type": "code",
      "execution_count": null,
      "metadata": {
        "id": "9qu2eu1wo7yu"
      },
      "outputs": [],
      "source": [
        "# Se muestran los retornos de Apple, Amazon y Google en marco de tiempo anual.\n",
        "acciones_año = acciones1 = [rorlog(marco_tiempo(apple, 'year'), 'aapl')['Return_aapl'], rorlog(marco_tiempo(amazon, 'year'), 'amzn')['Return_amzn'], \n",
        "            rorlog(marco_tiempo(google, 'year'), 'goog')['Return_goog'], rorlog(marco_tiempo(netflix, 'year'), 'nflx')['Return_nflx']]\n",
        "data_2 = dataconcat(acciones_año)"
      ]
    },
    {
      "cell_type": "markdown",
      "metadata": {
        "id": "-g_92lR5RMj0"
      },
      "source": [
        "### **2.2 Analísis con estadística descriptiva** "
      ]
    },
    {
      "cell_type": "markdown",
      "metadata": {
        "id": "Upn9SYD-Lzhi"
      },
      "source": [
        "En esta sección se realiza un breve analísis de los rendimientos de cada una de las acciones en diferentes marcos de tiempo. En lo que sigue, *analisis_marcotiempo* es el dataframe que nos muestrá la media, la suma de los rendimientos y la desviación estaándar de las acciones que querramos estudiar."
      ]
    },
    {
      "cell_type": "code",
      "execution_count": null,
      "metadata": {
        "colab": {
          "base_uri": "https://localhost:8080/",
          "height": 206
        },
        "id": "kSxCvfBKs-ar",
        "outputId": "ceb04aa1-0e63-4899-f7df-b3d08c71d285"
      },
      "outputs": [
        {
          "output_type": "execute_result",
          "data": {
            "text/plain": [
              "      Return_aapl  Return_amzn  Return_goog  Return_nflx\n",
              "sum      5.786796     3.871791     3.553574     4.870144\n",
              "mean     0.001239     0.000829     0.000761     0.001042\n",
              "max      0.130194     0.238621     0.182251     0.352230\n",
              "min     -0.197470    -0.246182    -0.123402    -0.526049\n",
              "std      0.020953     0.024189     0.019304     0.033718"
            ],
            "text/html": [
              "\n",
              "  <div id=\"df-b2ea1d5d-f366-4099-8ba5-fd0e784cfa99\">\n",
              "    <div class=\"colab-df-container\">\n",
              "      <div>\n",
              "<style scoped>\n",
              "    .dataframe tbody tr th:only-of-type {\n",
              "        vertical-align: middle;\n",
              "    }\n",
              "\n",
              "    .dataframe tbody tr th {\n",
              "        vertical-align: top;\n",
              "    }\n",
              "\n",
              "    .dataframe thead th {\n",
              "        text-align: right;\n",
              "    }\n",
              "</style>\n",
              "<table border=\"1\" class=\"dataframe\">\n",
              "  <thead>\n",
              "    <tr style=\"text-align: right;\">\n",
              "      <th></th>\n",
              "      <th>Return_aapl</th>\n",
              "      <th>Return_amzn</th>\n",
              "      <th>Return_goog</th>\n",
              "      <th>Return_nflx</th>\n",
              "    </tr>\n",
              "  </thead>\n",
              "  <tbody>\n",
              "    <tr>\n",
              "      <th>sum</th>\n",
              "      <td>5.786796</td>\n",
              "      <td>3.871791</td>\n",
              "      <td>3.553574</td>\n",
              "      <td>4.870144</td>\n",
              "    </tr>\n",
              "    <tr>\n",
              "      <th>mean</th>\n",
              "      <td>0.001239</td>\n",
              "      <td>0.000829</td>\n",
              "      <td>0.000761</td>\n",
              "      <td>0.001042</td>\n",
              "    </tr>\n",
              "    <tr>\n",
              "      <th>max</th>\n",
              "      <td>0.130194</td>\n",
              "      <td>0.238621</td>\n",
              "      <td>0.182251</td>\n",
              "      <td>0.352230</td>\n",
              "    </tr>\n",
              "    <tr>\n",
              "      <th>min</th>\n",
              "      <td>-0.197470</td>\n",
              "      <td>-0.246182</td>\n",
              "      <td>-0.123402</td>\n",
              "      <td>-0.526049</td>\n",
              "    </tr>\n",
              "    <tr>\n",
              "      <th>std</th>\n",
              "      <td>0.020953</td>\n",
              "      <td>0.024189</td>\n",
              "      <td>0.019304</td>\n",
              "      <td>0.033718</td>\n",
              "    </tr>\n",
              "  </tbody>\n",
              "</table>\n",
              "</div>\n",
              "      <button class=\"colab-df-convert\" onclick=\"convertToInteractive('df-b2ea1d5d-f366-4099-8ba5-fd0e784cfa99')\"\n",
              "              title=\"Convert this dataframe to an interactive table.\"\n",
              "              style=\"display:none;\">\n",
              "        \n",
              "  <svg xmlns=\"http://www.w3.org/2000/svg\" height=\"24px\"viewBox=\"0 0 24 24\"\n",
              "       width=\"24px\">\n",
              "    <path d=\"M0 0h24v24H0V0z\" fill=\"none\"/>\n",
              "    <path d=\"M18.56 5.44l.94 2.06.94-2.06 2.06-.94-2.06-.94-.94-2.06-.94 2.06-2.06.94zm-11 1L8.5 8.5l.94-2.06 2.06-.94-2.06-.94L8.5 2.5l-.94 2.06-2.06.94zm10 10l.94 2.06.94-2.06 2.06-.94-2.06-.94-.94-2.06-.94 2.06-2.06.94z\"/><path d=\"M17.41 7.96l-1.37-1.37c-.4-.4-.92-.59-1.43-.59-.52 0-1.04.2-1.43.59L10.3 9.45l-7.72 7.72c-.78.78-.78 2.05 0 2.83L4 21.41c.39.39.9.59 1.41.59.51 0 1.02-.2 1.41-.59l7.78-7.78 2.81-2.81c.8-.78.8-2.07 0-2.86zM5.41 20L4 18.59l7.72-7.72 1.47 1.35L5.41 20z\"/>\n",
              "  </svg>\n",
              "      </button>\n",
              "      \n",
              "  <style>\n",
              "    .colab-df-container {\n",
              "      display:flex;\n",
              "      flex-wrap:wrap;\n",
              "      gap: 12px;\n",
              "    }\n",
              "\n",
              "    .colab-df-convert {\n",
              "      background-color: #E8F0FE;\n",
              "      border: none;\n",
              "      border-radius: 50%;\n",
              "      cursor: pointer;\n",
              "      display: none;\n",
              "      fill: #1967D2;\n",
              "      height: 32px;\n",
              "      padding: 0 0 0 0;\n",
              "      width: 32px;\n",
              "    }\n",
              "\n",
              "    .colab-df-convert:hover {\n",
              "      background-color: #E2EBFA;\n",
              "      box-shadow: 0px 1px 2px rgba(60, 64, 67, 0.3), 0px 1px 3px 1px rgba(60, 64, 67, 0.15);\n",
              "      fill: #174EA6;\n",
              "    }\n",
              "\n",
              "    [theme=dark] .colab-df-convert {\n",
              "      background-color: #3B4455;\n",
              "      fill: #D2E3FC;\n",
              "    }\n",
              "\n",
              "    [theme=dark] .colab-df-convert:hover {\n",
              "      background-color: #434B5C;\n",
              "      box-shadow: 0px 1px 3px 1px rgba(0, 0, 0, 0.15);\n",
              "      filter: drop-shadow(0px 1px 2px rgba(0, 0, 0, 0.3));\n",
              "      fill: #FFFFFF;\n",
              "    }\n",
              "  </style>\n",
              "\n",
              "      <script>\n",
              "        const buttonEl =\n",
              "          document.querySelector('#df-b2ea1d5d-f366-4099-8ba5-fd0e784cfa99 button.colab-df-convert');\n",
              "        buttonEl.style.display =\n",
              "          google.colab.kernel.accessAllowed ? 'block' : 'none';\n",
              "\n",
              "        async function convertToInteractive(key) {\n",
              "          const element = document.querySelector('#df-b2ea1d5d-f366-4099-8ba5-fd0e784cfa99');\n",
              "          const dataTable =\n",
              "            await google.colab.kernel.invokeFunction('convertToInteractive',\n",
              "                                                     [key], {});\n",
              "          if (!dataTable) return;\n",
              "\n",
              "          const docLinkHtml = 'Like what you see? Visit the ' +\n",
              "            '<a target=\"_blank\" href=https://colab.research.google.com/notebooks/data_table.ipynb>data table notebook</a>'\n",
              "            + ' to learn more about interactive tables.';\n",
              "          element.innerHTML = '';\n",
              "          dataTable['output_type'] = 'display_data';\n",
              "          await google.colab.output.renderOutput(dataTable, element);\n",
              "          const docLink = document.createElement('div');\n",
              "          docLink.innerHTML = docLinkHtml;\n",
              "          element.appendChild(docLink);\n",
              "        }\n",
              "      </script>\n",
              "    </div>\n",
              "  </div>\n",
              "  "
            ]
          },
          "metadata": {},
          "execution_count": 203
        }
      ],
      "source": [
        "analisis_dia = dataconcat(acciones_dia).agg(['sum', 'mean', 'max', 'min', 'std'])\n",
        "analisis_dia"
      ]
    },
    {
      "cell_type": "code",
      "execution_count": null,
      "metadata": {
        "colab": {
          "base_uri": "https://localhost:8080/",
          "height": 206
        },
        "id": "vl3kFrBBu3GR",
        "outputId": "a5fe9b60-1109-41e6-b2f0-7db8a636fb4a"
      },
      "outputs": [
        {
          "output_type": "execute_result",
          "data": {
            "text/plain": [
              "      Return_aapl  Return_amzn  Return_goog  Return_nflx\n",
              "sum      5.639104     3.900207     3.567165     5.085386\n",
              "mean     0.035691     0.024685     0.022577     0.032186\n",
              "max      0.548308     0.449124     0.429206     0.622027\n",
              "min     -0.380733    -0.363568    -0.209789    -0.729854\n",
              "std      0.115549     0.120241     0.101357     0.181555"
            ],
            "text/html": [
              "\n",
              "  <div id=\"df-f2f0fee7-fe61-46da-b812-470f668edac5\">\n",
              "    <div class=\"colab-df-container\">\n",
              "      <div>\n",
              "<style scoped>\n",
              "    .dataframe tbody tr th:only-of-type {\n",
              "        vertical-align: middle;\n",
              "    }\n",
              "\n",
              "    .dataframe tbody tr th {\n",
              "        vertical-align: top;\n",
              "    }\n",
              "\n",
              "    .dataframe thead th {\n",
              "        text-align: right;\n",
              "    }\n",
              "</style>\n",
              "<table border=\"1\" class=\"dataframe\">\n",
              "  <thead>\n",
              "    <tr style=\"text-align: right;\">\n",
              "      <th></th>\n",
              "      <th>Return_aapl</th>\n",
              "      <th>Return_amzn</th>\n",
              "      <th>Return_goog</th>\n",
              "      <th>Return_nflx</th>\n",
              "    </tr>\n",
              "  </thead>\n",
              "  <tbody>\n",
              "    <tr>\n",
              "      <th>sum</th>\n",
              "      <td>5.639104</td>\n",
              "      <td>3.900207</td>\n",
              "      <td>3.567165</td>\n",
              "      <td>5.085386</td>\n",
              "    </tr>\n",
              "    <tr>\n",
              "      <th>mean</th>\n",
              "      <td>0.035691</td>\n",
              "      <td>0.024685</td>\n",
              "      <td>0.022577</td>\n",
              "      <td>0.032186</td>\n",
              "    </tr>\n",
              "    <tr>\n",
              "      <th>max</th>\n",
              "      <td>0.548308</td>\n",
              "      <td>0.449124</td>\n",
              "      <td>0.429206</td>\n",
              "      <td>0.622027</td>\n",
              "    </tr>\n",
              "    <tr>\n",
              "      <th>min</th>\n",
              "      <td>-0.380733</td>\n",
              "      <td>-0.363568</td>\n",
              "      <td>-0.209789</td>\n",
              "      <td>-0.729854</td>\n",
              "    </tr>\n",
              "    <tr>\n",
              "      <th>std</th>\n",
              "      <td>0.115549</td>\n",
              "      <td>0.120241</td>\n",
              "      <td>0.101357</td>\n",
              "      <td>0.181555</td>\n",
              "    </tr>\n",
              "  </tbody>\n",
              "</table>\n",
              "</div>\n",
              "      <button class=\"colab-df-convert\" onclick=\"convertToInteractive('df-f2f0fee7-fe61-46da-b812-470f668edac5')\"\n",
              "              title=\"Convert this dataframe to an interactive table.\"\n",
              "              style=\"display:none;\">\n",
              "        \n",
              "  <svg xmlns=\"http://www.w3.org/2000/svg\" height=\"24px\"viewBox=\"0 0 24 24\"\n",
              "       width=\"24px\">\n",
              "    <path d=\"M0 0h24v24H0V0z\" fill=\"none\"/>\n",
              "    <path d=\"M18.56 5.44l.94 2.06.94-2.06 2.06-.94-2.06-.94-.94-2.06-.94 2.06-2.06.94zm-11 1L8.5 8.5l.94-2.06 2.06-.94-2.06-.94L8.5 2.5l-.94 2.06-2.06.94zm10 10l.94 2.06.94-2.06 2.06-.94-2.06-.94-.94-2.06-.94 2.06-2.06.94z\"/><path d=\"M17.41 7.96l-1.37-1.37c-.4-.4-.92-.59-1.43-.59-.52 0-1.04.2-1.43.59L10.3 9.45l-7.72 7.72c-.78.78-.78 2.05 0 2.83L4 21.41c.39.39.9.59 1.41.59.51 0 1.02-.2 1.41-.59l7.78-7.78 2.81-2.81c.8-.78.8-2.07 0-2.86zM5.41 20L4 18.59l7.72-7.72 1.47 1.35L5.41 20z\"/>\n",
              "  </svg>\n",
              "      </button>\n",
              "      \n",
              "  <style>\n",
              "    .colab-df-container {\n",
              "      display:flex;\n",
              "      flex-wrap:wrap;\n",
              "      gap: 12px;\n",
              "    }\n",
              "\n",
              "    .colab-df-convert {\n",
              "      background-color: #E8F0FE;\n",
              "      border: none;\n",
              "      border-radius: 50%;\n",
              "      cursor: pointer;\n",
              "      display: none;\n",
              "      fill: #1967D2;\n",
              "      height: 32px;\n",
              "      padding: 0 0 0 0;\n",
              "      width: 32px;\n",
              "    }\n",
              "\n",
              "    .colab-df-convert:hover {\n",
              "      background-color: #E2EBFA;\n",
              "      box-shadow: 0px 1px 2px rgba(60, 64, 67, 0.3), 0px 1px 3px 1px rgba(60, 64, 67, 0.15);\n",
              "      fill: #174EA6;\n",
              "    }\n",
              "\n",
              "    [theme=dark] .colab-df-convert {\n",
              "      background-color: #3B4455;\n",
              "      fill: #D2E3FC;\n",
              "    }\n",
              "\n",
              "    [theme=dark] .colab-df-convert:hover {\n",
              "      background-color: #434B5C;\n",
              "      box-shadow: 0px 1px 3px 1px rgba(0, 0, 0, 0.15);\n",
              "      filter: drop-shadow(0px 1px 2px rgba(0, 0, 0, 0.3));\n",
              "      fill: #FFFFFF;\n",
              "    }\n",
              "  </style>\n",
              "\n",
              "      <script>\n",
              "        const buttonEl =\n",
              "          document.querySelector('#df-f2f0fee7-fe61-46da-b812-470f668edac5 button.colab-df-convert');\n",
              "        buttonEl.style.display =\n",
              "          google.colab.kernel.accessAllowed ? 'block' : 'none';\n",
              "\n",
              "        async function convertToInteractive(key) {\n",
              "          const element = document.querySelector('#df-f2f0fee7-fe61-46da-b812-470f668edac5');\n",
              "          const dataTable =\n",
              "            await google.colab.kernel.invokeFunction('convertToInteractive',\n",
              "                                                     [key], {});\n",
              "          if (!dataTable) return;\n",
              "\n",
              "          const docLinkHtml = 'Like what you see? Visit the ' +\n",
              "            '<a target=\"_blank\" href=https://colab.research.google.com/notebooks/data_table.ipynb>data table notebook</a>'\n",
              "            + ' to learn more about interactive tables.';\n",
              "          element.innerHTML = '';\n",
              "          dataTable['output_type'] = 'display_data';\n",
              "          await google.colab.output.renderOutput(dataTable, element);\n",
              "          const docLink = document.createElement('div');\n",
              "          docLink.innerHTML = docLinkHtml;\n",
              "          element.appendChild(docLink);\n",
              "        }\n",
              "      </script>\n",
              "    </div>\n",
              "  </div>\n",
              "  "
            ]
          },
          "metadata": {},
          "execution_count": 204
        }
      ],
      "source": [
        "analisis_mes = dataconcat(acciones_mes).agg(['sum', 'mean', 'max', 'min', 'std'])\n",
        "analisis_mes"
      ]
    },
    {
      "cell_type": "code",
      "execution_count": null,
      "metadata": {
        "colab": {
          "base_uri": "https://localhost:8080/",
          "height": 206
        },
        "id": "jQeUz4Snvi4v",
        "outputId": "facde48f-ab81-434b-8210-7976de44de39"
      },
      "outputs": [
        {
          "output_type": "execute_result",
          "data": {
            "text/plain": [
              "      Return_aapl  Return_amzn  Return_goog  Return_nflx\n",
              "sum      5.193495     4.321271     3.405540     5.834863\n",
              "mean     0.432791     0.360106     0.283795     0.486239\n",
              "max      1.816705     0.964412     1.277233     1.380364\n",
              "min     -0.841911    -0.591420    -0.809871    -0.640597\n",
              "std      0.618333     0.462130     0.493799     0.569585"
            ],
            "text/html": [
              "\n",
              "  <div id=\"df-ffa46352-b44c-4318-badb-162fc80124aa\">\n",
              "    <div class=\"colab-df-container\">\n",
              "      <div>\n",
              "<style scoped>\n",
              "    .dataframe tbody tr th:only-of-type {\n",
              "        vertical-align: middle;\n",
              "    }\n",
              "\n",
              "    .dataframe tbody tr th {\n",
              "        vertical-align: top;\n",
              "    }\n",
              "\n",
              "    .dataframe thead th {\n",
              "        text-align: right;\n",
              "    }\n",
              "</style>\n",
              "<table border=\"1\" class=\"dataframe\">\n",
              "  <thead>\n",
              "    <tr style=\"text-align: right;\">\n",
              "      <th></th>\n",
              "      <th>Return_aapl</th>\n",
              "      <th>Return_amzn</th>\n",
              "      <th>Return_goog</th>\n",
              "      <th>Return_nflx</th>\n",
              "    </tr>\n",
              "  </thead>\n",
              "  <tbody>\n",
              "    <tr>\n",
              "      <th>sum</th>\n",
              "      <td>5.193495</td>\n",
              "      <td>4.321271</td>\n",
              "      <td>3.405540</td>\n",
              "      <td>5.834863</td>\n",
              "    </tr>\n",
              "    <tr>\n",
              "      <th>mean</th>\n",
              "      <td>0.432791</td>\n",
              "      <td>0.360106</td>\n",
              "      <td>0.283795</td>\n",
              "      <td>0.486239</td>\n",
              "    </tr>\n",
              "    <tr>\n",
              "      <th>max</th>\n",
              "      <td>1.816705</td>\n",
              "      <td>0.964412</td>\n",
              "      <td>1.277233</td>\n",
              "      <td>1.380364</td>\n",
              "    </tr>\n",
              "    <tr>\n",
              "      <th>min</th>\n",
              "      <td>-0.841911</td>\n",
              "      <td>-0.591420</td>\n",
              "      <td>-0.809871</td>\n",
              "      <td>-0.640597</td>\n",
              "    </tr>\n",
              "    <tr>\n",
              "      <th>std</th>\n",
              "      <td>0.618333</td>\n",
              "      <td>0.462130</td>\n",
              "      <td>0.493799</td>\n",
              "      <td>0.569585</td>\n",
              "    </tr>\n",
              "  </tbody>\n",
              "</table>\n",
              "</div>\n",
              "      <button class=\"colab-df-convert\" onclick=\"convertToInteractive('df-ffa46352-b44c-4318-badb-162fc80124aa')\"\n",
              "              title=\"Convert this dataframe to an interactive table.\"\n",
              "              style=\"display:none;\">\n",
              "        \n",
              "  <svg xmlns=\"http://www.w3.org/2000/svg\" height=\"24px\"viewBox=\"0 0 24 24\"\n",
              "       width=\"24px\">\n",
              "    <path d=\"M0 0h24v24H0V0z\" fill=\"none\"/>\n",
              "    <path d=\"M18.56 5.44l.94 2.06.94-2.06 2.06-.94-2.06-.94-.94-2.06-.94 2.06-2.06.94zm-11 1L8.5 8.5l.94-2.06 2.06-.94-2.06-.94L8.5 2.5l-.94 2.06-2.06.94zm10 10l.94 2.06.94-2.06 2.06-.94-2.06-.94-.94-2.06-.94 2.06-2.06.94z\"/><path d=\"M17.41 7.96l-1.37-1.37c-.4-.4-.92-.59-1.43-.59-.52 0-1.04.2-1.43.59L10.3 9.45l-7.72 7.72c-.78.78-.78 2.05 0 2.83L4 21.41c.39.39.9.59 1.41.59.51 0 1.02-.2 1.41-.59l7.78-7.78 2.81-2.81c.8-.78.8-2.07 0-2.86zM5.41 20L4 18.59l7.72-7.72 1.47 1.35L5.41 20z\"/>\n",
              "  </svg>\n",
              "      </button>\n",
              "      \n",
              "  <style>\n",
              "    .colab-df-container {\n",
              "      display:flex;\n",
              "      flex-wrap:wrap;\n",
              "      gap: 12px;\n",
              "    }\n",
              "\n",
              "    .colab-df-convert {\n",
              "      background-color: #E8F0FE;\n",
              "      border: none;\n",
              "      border-radius: 50%;\n",
              "      cursor: pointer;\n",
              "      display: none;\n",
              "      fill: #1967D2;\n",
              "      height: 32px;\n",
              "      padding: 0 0 0 0;\n",
              "      width: 32px;\n",
              "    }\n",
              "\n",
              "    .colab-df-convert:hover {\n",
              "      background-color: #E2EBFA;\n",
              "      box-shadow: 0px 1px 2px rgba(60, 64, 67, 0.3), 0px 1px 3px 1px rgba(60, 64, 67, 0.15);\n",
              "      fill: #174EA6;\n",
              "    }\n",
              "\n",
              "    [theme=dark] .colab-df-convert {\n",
              "      background-color: #3B4455;\n",
              "      fill: #D2E3FC;\n",
              "    }\n",
              "\n",
              "    [theme=dark] .colab-df-convert:hover {\n",
              "      background-color: #434B5C;\n",
              "      box-shadow: 0px 1px 3px 1px rgba(0, 0, 0, 0.15);\n",
              "      filter: drop-shadow(0px 1px 2px rgba(0, 0, 0, 0.3));\n",
              "      fill: #FFFFFF;\n",
              "    }\n",
              "  </style>\n",
              "\n",
              "      <script>\n",
              "        const buttonEl =\n",
              "          document.querySelector('#df-ffa46352-b44c-4318-badb-162fc80124aa button.colab-df-convert');\n",
              "        buttonEl.style.display =\n",
              "          google.colab.kernel.accessAllowed ? 'block' : 'none';\n",
              "\n",
              "        async function convertToInteractive(key) {\n",
              "          const element = document.querySelector('#df-ffa46352-b44c-4318-badb-162fc80124aa');\n",
              "          const dataTable =\n",
              "            await google.colab.kernel.invokeFunction('convertToInteractive',\n",
              "                                                     [key], {});\n",
              "          if (!dataTable) return;\n",
              "\n",
              "          const docLinkHtml = 'Like what you see? Visit the ' +\n",
              "            '<a target=\"_blank\" href=https://colab.research.google.com/notebooks/data_table.ipynb>data table notebook</a>'\n",
              "            + ' to learn more about interactive tables.';\n",
              "          element.innerHTML = '';\n",
              "          dataTable['output_type'] = 'display_data';\n",
              "          await google.colab.output.renderOutput(dataTable, element);\n",
              "          const docLink = document.createElement('div');\n",
              "          docLink.innerHTML = docLinkHtml;\n",
              "          element.appendChild(docLink);\n",
              "        }\n",
              "      </script>\n",
              "    </div>\n",
              "  </div>\n",
              "  "
            ]
          },
          "metadata": {},
          "execution_count": 205
        }
      ],
      "source": [
        "analisis_año = dataconcat(acciones_año).agg(['sum', 'mean', 'max', 'min', 'std'])\n",
        "analisis_año"
      ]
    },
    {
      "cell_type": "markdown",
      "metadata": {
        "id": "eMKB025Vevi2"
      },
      "source": [
        "Vamos a visualizar el comportamiento de los rendimientos ."
      ]
    },
    {
      "cell_type": "code",
      "execution_count": null,
      "metadata": {
        "colab": {
          "base_uri": "https://localhost:8080/",
          "height": 527
        },
        "id": "gvI3hckYuief",
        "outputId": "1c1fe5aa-8ac1-43bb-c6ce-8d790bba8331"
      },
      "outputs": [
        {
          "output_type": "execute_result",
          "data": {
            "text/plain": [
              "Text(0.5, 1.0, 'RENDIMIENTO ANUAL- AAGN')"
            ]
          },
          "metadata": {},
          "execution_count": 206
        },
        {
          "output_type": "display_data",
          "data": {
            "text/plain": [
              "<Figure size 432x288 with 2 Axes>"
            ],
            "image/png": "[encoded data removed]"
          },
          "metadata": {
            "needs_background": "light"
          }
        }
      ],
      "source": [
        "fig = plt.figure()\n",
        "ax = fig.add_subplot(1, 1, 1)\n",
        "ax = fig.add_axes([0, 0, 1.5, 1.5])\n",
        "\n",
        "ax.plot(data_2['Return_aapl'], 'b--', label = 'Apple')\n",
        "ax.plot(data_2['Return_amzn'], 'g', label = 'Amazon')\n",
        "ax.plot(data_2['Return_goog'], label = 'Google')\n",
        "ax.plot(data_2['Return_nflx'], 'r.-.', label = 'Netlix')\n",
        "\n",
        "ax.legend()\n",
        "plt.gca().yaxis.set_major_formatter(mtick.PercentFormatter(xmax=1.0))\n",
        "ax.set_xlabel('Marco de tiempo - anual')\n",
        "ax.set_ylabel('Rendimiento - anual')\n",
        "ax.set_title('RENDIMIENTO ANUAL- AAGN')"
      ]
    },
    {
      "cell_type": "markdown",
      "metadata": {
        "id": "r3nE4LjvAxfm"
      },
      "source": [
        "En la gráfica anterior se visualizar un marco de tiempo anual de los rendimientos de Apple, Amazon, Google, Netflix. La acción Meta (antes facebook) empezo a cotizar en la bolsa desde el 2012.\n",
        "\n",
        "Para colocar nuestro analísis en un cotexto adecuado se deben tener en cuenta las crisis financieras. En particular la crisis finaciera del 2008 que se origino por una burbuja en el sector inmobiliario en el año 2006, afectando en primera instancia a Estados Unidos y posteriormente al mercado internacional.\n",
        "\n",
        "En la gráfica anterior se puede apreciar como el precio de las acciones se desplomaban y como consecuencia sus rendimientos eran negativos, provocandole pérdidas a las personas que decidieron invertir a largo plazo entre los años 2006 y 2009. En el año 2009 se puede ver que los rendimientos van en aumento, esto se debe a una recuperación económica. Observe que los rendimientos no tienen un comportamiento lineal, la gráfica sugiere alta oscilación en los retornos (ganancias - perdidas). \n",
        "\n"
      ]
    },
    {
      "cell_type": "code",
      "source": [
        "analisis_año = dataconcat(acciones_año).agg(['sum', 'mean', 'max', 'min', 'std'])\n",
        "analisis_año"
      ],
      "metadata": {
        "colab": {
          "base_uri": "https://localhost:8080/",
          "height": 206
        },
        "id": "37t0lreWLVgk",
        "outputId": "4c7638d9-14dd-4f3e-ed08-b8d6c1f6f357"
      },
      "execution_count": null,
      "outputs": [
        {
          "output_type": "execute_result",
          "data": {
            "text/plain": [
              "      Return_aapl  Return_amzn  Return_goog  Return_nflx\n",
              "sum      5.193495     4.321271     3.405540     5.834863\n",
              "mean     0.432791     0.360106     0.283795     0.486239\n",
              "max      1.816705     0.964412     1.277233     1.380364\n",
              "min     -0.841911    -0.591420    -0.809871    -0.640597\n",
              "std      0.618333     0.462130     0.493799     0.569585"
            ],
            "text/html": [
              "\n",
              "  <div id=\"df-ba1de83d-8a27-48ad-8e52-559940cff311\">\n",
              "    <div class=\"colab-df-container\">\n",
              "      <div>\n",
              "<style scoped>\n",
              "    .dataframe tbody tr th:only-of-type {\n",
              "        vertical-align: middle;\n",
              "    }\n",
              "\n",
              "    .dataframe tbody tr th {\n",
              "        vertical-align: top;\n",
              "    }\n",
              "\n",
              "    .dataframe thead th {\n",
              "        text-align: right;\n",
              "    }\n",
              "</style>\n",
              "<table border=\"1\" class=\"dataframe\">\n",
              "  <thead>\n",
              "    <tr style=\"text-align: right;\">\n",
              "      <th></th>\n",
              "      <th>Return_aapl</th>\n",
              "      <th>Return_amzn</th>\n",
              "      <th>Return_goog</th>\n",
              "      <th>Return_nflx</th>\n",
              "    </tr>\n",
              "  </thead>\n",
              "  <tbody>\n",
              "    <tr>\n",
              "      <th>sum</th>\n",
              "      <td>5.193495</td>\n",
              "      <td>4.321271</td>\n",
              "      <td>3.405540</td>\n",
              "      <td>5.834863</td>\n",
              "    </tr>\n",
              "    <tr>\n",
              "      <th>mean</th>\n",
              "      <td>0.432791</td>\n",
              "      <td>0.360106</td>\n",
              "      <td>0.283795</td>\n",
              "      <td>0.486239</td>\n",
              "    </tr>\n",
              "    <tr>\n",
              "      <th>max</th>\n",
              "      <td>1.816705</td>\n",
              "      <td>0.964412</td>\n",
              "      <td>1.277233</td>\n",
              "      <td>1.380364</td>\n",
              "    </tr>\n",
              "    <tr>\n",
              "      <th>min</th>\n",
              "      <td>-0.841911</td>\n",
              "      <td>-0.591420</td>\n",
              "      <td>-0.809871</td>\n",
              "      <td>-0.640597</td>\n",
              "    </tr>\n",
              "    <tr>\n",
              "      <th>std</th>\n",
              "      <td>0.618333</td>\n",
              "      <td>0.462130</td>\n",
              "      <td>0.493799</td>\n",
              "      <td>0.569585</td>\n",
              "    </tr>\n",
              "  </tbody>\n",
              "</table>\n",
              "</div>\n",
              "      <button class=\"colab-df-convert\" onclick=\"convertToInteractive('df-ba1de83d-8a27-48ad-8e52-559940cff311')\"\n",
              "              title=\"Convert this dataframe to an interactive table.\"\n",
              "              style=\"display:none;\">\n",
              "        \n",
              "  <svg xmlns=\"http://www.w3.org/2000/svg\" height=\"24px\"viewBox=\"0 0 24 24\"\n",
              "       width=\"24px\">\n",
              "    <path d=\"M0 0h24v24H0V0z\" fill=\"none\"/>\n",
              "    <path d=\"M18.56 5.44l.94 2.06.94-2.06 2.06-.94-2.06-.94-.94-2.06-.94 2.06-2.06.94zm-11 1L8.5 8.5l.94-2.06 2.06-.94-2.06-.94L8.5 2.5l-.94 2.06-2.06.94zm10 10l.94 2.06.94-2.06 2.06-.94-2.06-.94-.94-2.06-.94 2.06-2.06.94z\"/><path d=\"M17.41 7.96l-1.37-1.37c-.4-.4-.92-.59-1.43-.59-.52 0-1.04.2-1.43.59L10.3 9.45l-7.72 7.72c-.78.78-.78 2.05 0 2.83L4 21.41c.39.39.9.59 1.41.59.51 0 1.02-.2 1.41-.59l7.78-7.78 2.81-2.81c.8-.78.8-2.07 0-2.86zM5.41 20L4 18.59l7.72-7.72 1.47 1.35L5.41 20z\"/>\n",
              "  </svg>\n",
              "      </button>\n",
              "      \n",
              "  <style>\n",
              "    .colab-df-container {\n",
              "      display:flex;\n",
              "      flex-wrap:wrap;\n",
              "      gap: 12px;\n",
              "    }\n",
              "\n",
              "    .colab-df-convert {\n",
              "      background-color: #E8F0FE;\n",
              "      border: none;\n",
              "      border-radius: 50%;\n",
              "      cursor: pointer;\n",
              "      display: none;\n",
              "      fill: #1967D2;\n",
              "      height: 32px;\n",
              "      padding: 0 0 0 0;\n",
              "      width: 32px;\n",
              "    }\n",
              "\n",
              "    .colab-df-convert:hover {\n",
              "      background-color: #E2EBFA;\n",
              "      box-shadow: 0px 1px 2px rgba(60, 64, 67, 0.3), 0px 1px 3px 1px rgba(60, 64, 67, 0.15);\n",
              "      fill: #174EA6;\n",
              "    }\n",
              "\n",
              "    [theme=dark] .colab-df-convert {\n",
              "      background-color: #3B4455;\n",
              "      fill: #D2E3FC;\n",
              "    }\n",
              "\n",
              "    [theme=dark] .colab-df-convert:hover {\n",
              "      background-color: #434B5C;\n",
              "      box-shadow: 0px 1px 3px 1px rgba(0, 0, 0, 0.15);\n",
              "      filter: drop-shadow(0px 1px 2px rgba(0, 0, 0, 0.3));\n",
              "      fill: #FFFFFF;\n",
              "    }\n",
              "  </style>\n",
              "\n",
              "      <script>\n",
              "        const buttonEl =\n",
              "          document.querySelector('#df-ba1de83d-8a27-48ad-8e52-559940cff311 button.colab-df-convert');\n",
              "        buttonEl.style.display =\n",
              "          google.colab.kernel.accessAllowed ? 'block' : 'none';\n",
              "\n",
              "        async function convertToInteractive(key) {\n",
              "          const element = document.querySelector('#df-ba1de83d-8a27-48ad-8e52-559940cff311');\n",
              "          const dataTable =\n",
              "            await google.colab.kernel.invokeFunction('convertToInteractive',\n",
              "                                                     [key], {});\n",
              "          if (!dataTable) return;\n",
              "\n",
              "          const docLinkHtml = 'Like what you see? Visit the ' +\n",
              "            '<a target=\"_blank\" href=https://colab.research.google.com/notebooks/data_table.ipynb>data table notebook</a>'\n",
              "            + ' to learn more about interactive tables.';\n",
              "          element.innerHTML = '';\n",
              "          dataTable['output_type'] = 'display_data';\n",
              "          await google.colab.output.renderOutput(dataTable, element);\n",
              "          const docLink = document.createElement('div');\n",
              "          docLink.innerHTML = docLinkHtml;\n",
              "          element.appendChild(docLink);\n",
              "        }\n",
              "      </script>\n",
              "    </div>\n",
              "  </div>\n",
              "  "
            ]
          },
          "metadata": {},
          "execution_count": 207
        }
      ]
    },
    {
      "cell_type": "markdown",
      "source": [
        "En la información anterior encontramos varios datos interesantes, como por ejemplo que desde el 2008  hasta el 2022 el **rendimiento promedio** es del 43% para la acción de Apple, 36% para Amazon, 28% para Google y 48% para Neflix; una tasa nada despreciable si a ganancia nos referimos. \n",
        "\n",
        "También se puede observar el max rendimiento para la acción de Apple es de 180% en un año, así mismo los rendimientos de las otras acciones están rodando esa cifra. Las pérdidas oscilan ente -84% y -60%. \n",
        "\n",
        "Realizado este analísis se puede concluir que estas acciones son un buen elemento en un portafolio de inversiones.\n",
        "Considere lo siguiente: \n",
        "1. Invertir en acciones después de una crisis finaciera parece ser una buena estrategia.\n",
        "2. Las crisis financieras deben verse como una oportunidad de inversión.\n",
        "3. En la gráfica se puede evidencia que en el 2015 había otra oportunidad de inversión. En la actualidad parece estar mostrando el mismo patrón.\n",
        "4. Inversiones en corto plazo tienen poco rendimiento.\n",
        "\n",
        "\n",
        " Claro está que se deben considerar más aspectos sobre las empresas, por ejemplo, el patrimonio, la deuda, información de quien dirige la empresa, entre otros, estos aspectos no están al alcance de este proyecto.  \n"
      ],
      "metadata": {
        "id": "Kafo5QMxLYyd"
      }
    },
    {
      "cell_type": "markdown",
      "source": [
        "Realizar un análisis de los rendimientos en marcos de tiempo pequeños, refiriendonos al diario especificamente puede no ser la opción debido a la alta volatilidad que se pueden observar en la siguiente gráfica."
      ],
      "metadata": {
        "id": "XCVT3MI4ExEz"
      }
    },
    {
      "cell_type": "code",
      "source": [
        "# Gráfica en marco de tiempo diario\n",
        "\n",
        "fig = plt.figure()\n",
        "ax = fig.add_subplot(1, 1, 1)\n",
        "ax = fig.add_axes([0, 0, 1.5, 1.5])\n",
        "\n",
        "ax.plot(data_1['Return_aapl'], 'b--', label = 'Apple')\n",
        "ax.plot(data_1['Return_amzn'], 'g', label = 'Amazon')\n",
        "ax.plot(data_1['Return_goog'], label = 'Google')\n",
        "ax.plot(data_1['Return_nflx'], 'r', label = 'Netlix')\n",
        "\n",
        "ax.legend()\n",
        "plt.gca().yaxis.set_major_formatter(mtick.PercentFormatter(xmax=1.0))\n",
        "ax.set_xlabel('Marco de tiempo - diario')\n",
        "ax.set_ylabel('Rendimiento - diario')\n",
        "ax.set_title('RENDIMIENTO DIARIO- AAGN')"
      ],
      "metadata": {
        "colab": {
          "base_uri": "https://localhost:8080/",
          "height": 527
        },
        "id": "-1cORAohd_xL",
        "outputId": "6f9e6924-c985-40c4-8a33-656da4cce9ef"
      },
      "execution_count": null,
      "outputs": [
        {
          "output_type": "execute_result",
          "data": {
            "text/plain": [
              "Text(0.5, 1.0, 'RENDIMIENTO DIARIO- AAGN')"
            ]
          },
          "metadata": {},
          "execution_count": 208
        },
        {
          "output_type": "display_data",
          "data": {
            "text/plain": [
              "<Figure size 432x288 with 2 Axes>"
            ],
            "image/png": "[encoded data removed]"
          },
          "metadata": {
            "needs_background": "light"
          }
        }
      ]
    },
    {
      "cell_type": "markdown",
      "source": [
        "## **3. Análisis de los datos**"
      ],
      "metadata": {
        "id": "8weE7xDzVPEO"
      }
    },
    {
      "cell_type": "markdown",
      "source": [
        "En esta sección veremos si los rendimientos tienen relación alguna calculando el coeficiente de correlación y posteriormente visualizamos en un gráfico."
      ],
      "metadata": {
        "id": "gWvQXL-RV8F9"
      }
    },
    {
      "cell_type": "code",
      "source": [
        "def grafi_corr(data, var1, var2, marcodetiempo):\n",
        "    # la variable marco de tiempo debe ser un objeto tipo str\n",
        "    cr = data[var1].corr(data[var2]);\n",
        "    fig, ax = plt.subplots(dpi = 80);\n",
        "    data.plot.scatter(var1, var2, title = 'Coeficiente de correlación '+marcodetiempo+': {:.2}'.format(cr), ax = ax,\n",
        "                      marker = 'o', ls = 'None', s = 50, alpha = 0.5, grid = True)"
      ],
      "metadata": {
        "id": "LABEvuY5VNrh"
      },
      "execution_count": null,
      "outputs": []
    },
    {
      "cell_type": "code",
      "source": [
        "grafi_corr(data_2, 'Return_aapl', 'Return_amzn', 'anual')"
      ],
      "metadata": {
        "colab": {
          "base_uri": "https://localhost:8080/",
          "height": 379
        },
        "id": "A8VIp_oCXSVA",
        "outputId": "94eab2a4-c05d-4b8e-d6ae-6fe7a255d5f4"
      },
      "execution_count": null,
      "outputs": [
        {
          "output_type": "stream",
          "name": "stderr",
          "text": [
            "/usr/local/lib/python3.9/dist-packages/pandas/plotting/_matplotlib/core.py:1114: UserWarning: No data for colormapping provided via 'c'. Parameters 'cmap' will be ignored\n",
            "  scatter = ax.scatter(\n"
          ]
        },
        {
          "output_type": "display_data",
          "data": {
            "text/plain": [
              "<Figure size 480x320 with 1 Axes>"
            ],
            "image/png": "[encoded data removed]"
          },
          "metadata": {
            "needs_background": "light"
          }
        }
      ]
    },
    {
      "cell_type": "code",
      "source": [
        "grafi_corr(data_1, 'Return_aapl', 'Return_amzn', 'mensual')"
      ],
      "metadata": {
        "colab": {
          "base_uri": "https://localhost:8080/",
          "height": 324
        },
        "id": "lc7HR00RadTW",
        "outputId": "89b7a3a1-7793-4a41-8483-6d235c3f6f04"
      },
      "execution_count": null,
      "outputs": [
        {
          "output_type": "display_data",
          "data": {
            "text/plain": [
              "<Figure size 480x320 with 1 Axes>"
            ],
            "image/png": "[encoded data removed]"
          },
          "metadata": {
            "needs_background": "light"
          }
        }
      ]
    },
    {
      "cell_type": "code",
      "source": [
        "grafi_corr(data_0, 'Return_aapl', 'Return_amzn', 'diario')"
      ],
      "metadata": {
        "colab": {
          "base_uri": "https://localhost:8080/",
          "height": 324
        },
        "id": "A9HC1iJVf2YX",
        "outputId": "b5cb78ba-f43b-4e9a-ae2e-3568ea3a62c9"
      },
      "execution_count": null,
      "outputs": [
        {
          "output_type": "display_data",
          "data": {
            "text/plain": [
              "<Figure size 480x320 with 1 Axes>"
            ],
            "image/png": "[encoded data removed]"
          },
          "metadata": {
            "needs_background": "light"
          }
        }
      ]
    },
    {
      "cell_type": "markdown",
      "source": [
        "En estos gráficos podemos observar que hay lo que se podría considerar como *valores atipicos* pero estos valores son necesarios para el análsis, ya que son los puntos extremos que ha tomado el precio y pueden dar información útil para tomar decisiones. Por ejemplo, el rendimiento negativo de *Apple* en un año ha sido del -81% apróximadamente. Se podría pensar que a menos que la empresa esté declarandose en banca rota es un buen momento para pensar en comprar acciones de esta empresa. Por tanto no es necesario quitar estos datos."
      ],
      "metadata": {
        "id": "8gejuiPFkOd5"
      }
    },
    {
      "cell_type": "markdown",
      "source": [
        "En los gráficos anteriores podemos observar la relación entre los rendimientos de Apple y Amazon los en los diferentes marcos de tiempo ya mencionados.\n",
        "\n",
        "Se puede observar la que la relación de los rendimientos es un poco más alta en el marco de tiempo anual. En contraste con las gráficas de los rendimientos que vimos en la sección *2.2*. "
      ],
      "metadata": {
        "id": "YMkOUToAjZkO"
      }
    },
    {
      "cell_type": "markdown",
      "source": [
        "En la siguiente celda podemos observar el análisis de las correlaciones entre los retornos de las acciones estudiadas. Cada marco de datos corresponde a un marco de tiempo (diario, mensual, anual)"
      ],
      "metadata": {
        "id": "7sUodJRYwhlq"
      }
    },
    {
      "cell_type": "code",
      "execution_count": null,
      "metadata": {
        "colab": {
          "base_uri": "https://localhost:8080/",
          "height": 175
        },
        "id": "0L39r84lO6ST",
        "outputId": "90dd565b-92d5-4712-8b0d-ca94e91a08fc"
      },
      "outputs": [
        {
          "output_type": "execute_result",
          "data": {
            "text/plain": [
              "             Return_aapl  Return_amzn  Return_goog  Return_nflx\n",
              "Return_aapl     1.000000     0.458703     0.527091     0.285896\n",
              "Return_amzn     0.458703     1.000000     0.517998     0.383202\n",
              "Return_goog     0.527091     0.517998     1.000000     0.296508\n",
              "Return_nflx     0.285896     0.383202     0.296508     1.000000"
            ],
            "text/html": [
              "\n",
              "  <div id=\"df-6cb1b3e9-b33c-4ab5-a621-c1467e92eaec\">\n",
              "    <div class=\"colab-df-container\">\n",
              "      <div>\n",
              "<style scoped>\n",
              "    .dataframe tbody tr th:only-of-type {\n",
              "        vertical-align: middle;\n",
              "    }\n",
              "\n",
              "    .dataframe tbody tr th {\n",
              "        vertical-align: top;\n",
              "    }\n",
              "\n",
              "    .dataframe thead th {\n",
              "        text-align: right;\n",
              "    }\n",
              "</style>\n",
              "<table border=\"1\" class=\"dataframe\">\n",
              "  <thead>\n",
              "    <tr style=\"text-align: right;\">\n",
              "      <th></th>\n",
              "      <th>Return_aapl</th>\n",
              "      <th>Return_amzn</th>\n",
              "      <th>Return_goog</th>\n",
              "      <th>Return_nflx</th>\n",
              "    </tr>\n",
              "  </thead>\n",
              "  <tbody>\n",
              "    <tr>\n",
              "      <th>Return_aapl</th>\n",
              "      <td>1.000000</td>\n",
              "      <td>0.458703</td>\n",
              "      <td>0.527091</td>\n",
              "      <td>0.285896</td>\n",
              "    </tr>\n",
              "    <tr>\n",
              "      <th>Return_amzn</th>\n",
              "      <td>0.458703</td>\n",
              "      <td>1.000000</td>\n",
              "      <td>0.517998</td>\n",
              "      <td>0.383202</td>\n",
              "    </tr>\n",
              "    <tr>\n",
              "      <th>Return_goog</th>\n",
              "      <td>0.527091</td>\n",
              "      <td>0.517998</td>\n",
              "      <td>1.000000</td>\n",
              "      <td>0.296508</td>\n",
              "    </tr>\n",
              "    <tr>\n",
              "      <th>Return_nflx</th>\n",
              "      <td>0.285896</td>\n",
              "      <td>0.383202</td>\n",
              "      <td>0.296508</td>\n",
              "      <td>1.000000</td>\n",
              "    </tr>\n",
              "  </tbody>\n",
              "</table>\n",
              "</div>\n",
              "      <button class=\"colab-df-convert\" onclick=\"convertToInteractive('df-6cb1b3e9-b33c-4ab5-a621-c1467e92eaec')\"\n",
              "              title=\"Convert this dataframe to an interactive table.\"\n",
              "              style=\"display:none;\">\n",
              "        \n",
              "  <svg xmlns=\"http://www.w3.org/2000/svg\" height=\"24px\"viewBox=\"0 0 24 24\"\n",
              "       width=\"24px\">\n",
              "    <path d=\"M0 0h24v24H0V0z\" fill=\"none\"/>\n",
              "    <path d=\"M18.56 5.44l.94 2.06.94-2.06 2.06-.94-2.06-.94-.94-2.06-.94 2.06-2.06.94zm-11 1L8.5 8.5l.94-2.06 2.06-.94-2.06-.94L8.5 2.5l-.94 2.06-2.06.94zm10 10l.94 2.06.94-2.06 2.06-.94-2.06-.94-.94-2.06-.94 2.06-2.06.94z\"/><path d=\"M17.41 7.96l-1.37-1.37c-.4-.4-.92-.59-1.43-.59-.52 0-1.04.2-1.43.59L10.3 9.45l-7.72 7.72c-.78.78-.78 2.05 0 2.83L4 21.41c.39.39.9.59 1.41.59.51 0 1.02-.2 1.41-.59l7.78-7.78 2.81-2.81c.8-.78.8-2.07 0-2.86zM5.41 20L4 18.59l7.72-7.72 1.47 1.35L5.41 20z\"/>\n",
              "  </svg>\n",
              "      </button>\n",
              "      \n",
              "  <style>\n",
              "    .colab-df-container {\n",
              "      display:flex;\n",
              "      flex-wrap:wrap;\n",
              "      gap: 12px;\n",
              "    }\n",
              "\n",
              "    .colab-df-convert {\n",
              "      background-color: #E8F0FE;\n",
              "      border: none;\n",
              "      border-radius: 50%;\n",
              "      cursor: pointer;\n",
              "      display: none;\n",
              "      fill: #1967D2;\n",
              "      height: 32px;\n",
              "      padding: 0 0 0 0;\n",
              "      width: 32px;\n",
              "    }\n",
              "\n",
              "    .colab-df-convert:hover {\n",
              "      background-color: #E2EBFA;\n",
              "      box-shadow: 0px 1px 2px rgba(60, 64, 67, 0.3), 0px 1px 3px 1px rgba(60, 64, 67, 0.15);\n",
              "      fill: #174EA6;\n",
              "    }\n",
              "\n",
              "    [theme=dark] .colab-df-convert {\n",
              "      background-color: #3B4455;\n",
              "      fill: #D2E3FC;\n",
              "    }\n",
              "\n",
              "    [theme=dark] .colab-df-convert:hover {\n",
              "      background-color: #434B5C;\n",
              "      box-shadow: 0px 1px 3px 1px rgba(0, 0, 0, 0.15);\n",
              "      filter: drop-shadow(0px 1px 2px rgba(0, 0, 0, 0.3));\n",
              "      fill: #FFFFFF;\n",
              "    }\n",
              "  </style>\n",
              "\n",
              "      <script>\n",
              "        const buttonEl =\n",
              "          document.querySelector('#df-6cb1b3e9-b33c-4ab5-a621-c1467e92eaec button.colab-df-convert');\n",
              "        buttonEl.style.display =\n",
              "          google.colab.kernel.accessAllowed ? 'block' : 'none';\n",
              "\n",
              "        async function convertToInteractive(key) {\n",
              "          const element = document.querySelector('#df-6cb1b3e9-b33c-4ab5-a621-c1467e92eaec');\n",
              "          const dataTable =\n",
              "            await google.colab.kernel.invokeFunction('convertToInteractive',\n",
              "                                                     [key], {});\n",
              "          if (!dataTable) return;\n",
              "\n",
              "          const docLinkHtml = 'Like what you see? Visit the ' +\n",
              "            '<a target=\"_blank\" href=https://colab.research.google.com/notebooks/data_table.ipynb>data table notebook</a>'\n",
              "            + ' to learn more about interactive tables.';\n",
              "          element.innerHTML = '';\n",
              "          dataTable['output_type'] = 'display_data';\n",
              "          await google.colab.output.renderOutput(dataTable, element);\n",
              "          const docLink = document.createElement('div');\n",
              "          docLink.innerHTML = docLinkHtml;\n",
              "          element.appendChild(docLink);\n",
              "        }\n",
              "      </script>\n",
              "    </div>\n",
              "  </div>\n",
              "  "
            ]
          },
          "metadata": {},
          "execution_count": 213
        }
      ],
      "source": [
        "#diario \n",
        "data_0.corr()"
      ]
    },
    {
      "cell_type": "code",
      "execution_count": null,
      "metadata": {
        "colab": {
          "base_uri": "https://localhost:8080/",
          "height": 175
        },
        "id": "nwJplb9nNSv-",
        "outputId": "0c4a861c-34de-4c97-f702-ffbe9bd586f9"
      },
      "outputs": [
        {
          "output_type": "execute_result",
          "data": {
            "text/plain": [
              "             Return_aapl  Return_amzn  Return_goog  Return_nflx\n",
              "Return_aapl     1.000000     0.403668     0.537074     0.136609\n",
              "Return_amzn     0.403668     1.000000     0.508091     0.407024\n",
              "Return_goog     0.537074     0.508091     1.000000     0.245595\n",
              "Return_nflx     0.136609     0.407024     0.245595     1.000000"
            ],
            "text/html": [
              "\n",
              "  <div id=\"df-13a56687-b872-44ae-8af2-dfe7b86b4638\">\n",
              "    <div class=\"colab-df-container\">\n",
              "      <div>\n",
              "<style scoped>\n",
              "    .dataframe tbody tr th:only-of-type {\n",
              "        vertical-align: middle;\n",
              "    }\n",
              "\n",
              "    .dataframe tbody tr th {\n",
              "        vertical-align: top;\n",
              "    }\n",
              "\n",
              "    .dataframe thead th {\n",
              "        text-align: right;\n",
              "    }\n",
              "</style>\n",
              "<table border=\"1\" class=\"dataframe\">\n",
              "  <thead>\n",
              "    <tr style=\"text-align: right;\">\n",
              "      <th></th>\n",
              "      <th>Return_aapl</th>\n",
              "      <th>Return_amzn</th>\n",
              "      <th>Return_goog</th>\n",
              "      <th>Return_nflx</th>\n",
              "    </tr>\n",
              "  </thead>\n",
              "  <tbody>\n",
              "    <tr>\n",
              "      <th>Return_aapl</th>\n",
              "      <td>1.000000</td>\n",
              "      <td>0.403668</td>\n",
              "      <td>0.537074</td>\n",
              "      <td>0.136609</td>\n",
              "    </tr>\n",
              "    <tr>\n",
              "      <th>Return_amzn</th>\n",
              "      <td>0.403668</td>\n",
              "      <td>1.000000</td>\n",
              "      <td>0.508091</td>\n",
              "      <td>0.407024</td>\n",
              "    </tr>\n",
              "    <tr>\n",
              "      <th>Return_goog</th>\n",
              "      <td>0.537074</td>\n",
              "      <td>0.508091</td>\n",
              "      <td>1.000000</td>\n",
              "      <td>0.245595</td>\n",
              "    </tr>\n",
              "    <tr>\n",
              "      <th>Return_nflx</th>\n",
              "      <td>0.136609</td>\n",
              "      <td>0.407024</td>\n",
              "      <td>0.245595</td>\n",
              "      <td>1.000000</td>\n",
              "    </tr>\n",
              "  </tbody>\n",
              "</table>\n",
              "</div>\n",
              "      <button class=\"colab-df-convert\" onclick=\"convertToInteractive('df-13a56687-b872-44ae-8af2-dfe7b86b4638')\"\n",
              "              title=\"Convert this dataframe to an interactive table.\"\n",
              "              style=\"display:none;\">\n",
              "        \n",
              "  <svg xmlns=\"http://www.w3.org/2000/svg\" height=\"24px\"viewBox=\"0 0 24 24\"\n",
              "       width=\"24px\">\n",
              "    <path d=\"M0 0h24v24H0V0z\" fill=\"none\"/>\n",
              "    <path d=\"M18.56 5.44l.94 2.06.94-2.06 2.06-.94-2.06-.94-.94-2.06-.94 2.06-2.06.94zm-11 1L8.5 8.5l.94-2.06 2.06-.94-2.06-.94L8.5 2.5l-.94 2.06-2.06.94zm10 10l.94 2.06.94-2.06 2.06-.94-2.06-.94-.94-2.06-.94 2.06-2.06.94z\"/><path d=\"M17.41 7.96l-1.37-1.37c-.4-.4-.92-.59-1.43-.59-.52 0-1.04.2-1.43.59L10.3 9.45l-7.72 7.72c-.78.78-.78 2.05 0 2.83L4 21.41c.39.39.9.59 1.41.59.51 0 1.02-.2 1.41-.59l7.78-7.78 2.81-2.81c.8-.78.8-2.07 0-2.86zM5.41 20L4 18.59l7.72-7.72 1.47 1.35L5.41 20z\"/>\n",
              "  </svg>\n",
              "      </button>\n",
              "      \n",
              "  <style>\n",
              "    .colab-df-container {\n",
              "      display:flex;\n",
              "      flex-wrap:wrap;\n",
              "      gap: 12px;\n",
              "    }\n",
              "\n",
              "    .colab-df-convert {\n",
              "      background-color: #E8F0FE;\n",
              "      border: none;\n",
              "      border-radius: 50%;\n",
              "      cursor: pointer;\n",
              "      display: none;\n",
              "      fill: #1967D2;\n",
              "      height: 32px;\n",
              "      padding: 0 0 0 0;\n",
              "      width: 32px;\n",
              "    }\n",
              "\n",
              "    .colab-df-convert:hover {\n",
              "      background-color: #E2EBFA;\n",
              "      box-shadow: 0px 1px 2px rgba(60, 64, 67, 0.3), 0px 1px 3px 1px rgba(60, 64, 67, 0.15);\n",
              "      fill: #174EA6;\n",
              "    }\n",
              "\n",
              "    [theme=dark] .colab-df-convert {\n",
              "      background-color: #3B4455;\n",
              "      fill: #D2E3FC;\n",
              "    }\n",
              "\n",
              "    [theme=dark] .colab-df-convert:hover {\n",
              "      background-color: #434B5C;\n",
              "      box-shadow: 0px 1px 3px 1px rgba(0, 0, 0, 0.15);\n",
              "      filter: drop-shadow(0px 1px 2px rgba(0, 0, 0, 0.3));\n",
              "      fill: #FFFFFF;\n",
              "    }\n",
              "  </style>\n",
              "\n",
              "      <script>\n",
              "        const buttonEl =\n",
              "          document.querySelector('#df-13a56687-b872-44ae-8af2-dfe7b86b4638 button.colab-df-convert');\n",
              "        buttonEl.style.display =\n",
              "          google.colab.kernel.accessAllowed ? 'block' : 'none';\n",
              "\n",
              "        async function convertToInteractive(key) {\n",
              "          const element = document.querySelector('#df-13a56687-b872-44ae-8af2-dfe7b86b4638');\n",
              "          const dataTable =\n",
              "            await google.colab.kernel.invokeFunction('convertToInteractive',\n",
              "                                                     [key], {});\n",
              "          if (!dataTable) return;\n",
              "\n",
              "          const docLinkHtml = 'Like what you see? Visit the ' +\n",
              "            '<a target=\"_blank\" href=https://colab.research.google.com/notebooks/data_table.ipynb>data table notebook</a>'\n",
              "            + ' to learn more about interactive tables.';\n",
              "          element.innerHTML = '';\n",
              "          dataTable['output_type'] = 'display_data';\n",
              "          await google.colab.output.renderOutput(dataTable, element);\n",
              "          const docLink = document.createElement('div');\n",
              "          docLink.innerHTML = docLinkHtml;\n",
              "          element.appendChild(docLink);\n",
              "        }\n",
              "      </script>\n",
              "    </div>\n",
              "  </div>\n",
              "  "
            ]
          },
          "metadata": {},
          "execution_count": 214
        }
      ],
      "source": [
        "#mensual\n",
        "data_1.corr()"
      ]
    },
    {
      "cell_type": "code",
      "execution_count": null,
      "metadata": {
        "colab": {
          "base_uri": "https://localhost:8080/",
          "height": 175
        },
        "id": "h4pEcVbdOJU1",
        "outputId": "25c1dc89-6ab5-4011-d68a-9967ad12fdab"
      },
      "outputs": [
        {
          "output_type": "execute_result",
          "data": {
            "text/plain": [
              "             Return_aapl  Return_amzn  Return_goog  Return_nflx\n",
              "Return_aapl     1.000000     0.605828     0.849212     0.103500\n",
              "Return_amzn     0.605828     1.000000     0.756184     0.499533\n",
              "Return_goog     0.849212     0.756184     1.000000     0.310139\n",
              "Return_nflx     0.103500     0.499533     0.310139     1.000000"
            ],
            "text/html": [
              "\n",
              "  <div id=\"df-d8886261-fd9b-4056-adb0-7076d7b305e8\">\n",
              "    <div class=\"colab-df-container\">\n",
              "      <div>\n",
              "<style scoped>\n",
              "    .dataframe tbody tr th:only-of-type {\n",
              "        vertical-align: middle;\n",
              "    }\n",
              "\n",
              "    .dataframe tbody tr th {\n",
              "        vertical-align: top;\n",
              "    }\n",
              "\n",
              "    .dataframe thead th {\n",
              "        text-align: right;\n",
              "    }\n",
              "</style>\n",
              "<table border=\"1\" class=\"dataframe\">\n",
              "  <thead>\n",
              "    <tr style=\"text-align: right;\">\n",
              "      <th></th>\n",
              "      <th>Return_aapl</th>\n",
              "      <th>Return_amzn</th>\n",
              "      <th>Return_goog</th>\n",
              "      <th>Return_nflx</th>\n",
              "    </tr>\n",
              "  </thead>\n",
              "  <tbody>\n",
              "    <tr>\n",
              "      <th>Return_aapl</th>\n",
              "      <td>1.000000</td>\n",
              "      <td>0.605828</td>\n",
              "      <td>0.849212</td>\n",
              "      <td>0.103500</td>\n",
              "    </tr>\n",
              "    <tr>\n",
              "      <th>Return_amzn</th>\n",
              "      <td>0.605828</td>\n",
              "      <td>1.000000</td>\n",
              "      <td>0.756184</td>\n",
              "      <td>0.499533</td>\n",
              "    </tr>\n",
              "    <tr>\n",
              "      <th>Return_goog</th>\n",
              "      <td>0.849212</td>\n",
              "      <td>0.756184</td>\n",
              "      <td>1.000000</td>\n",
              "      <td>0.310139</td>\n",
              "    </tr>\n",
              "    <tr>\n",
              "      <th>Return_nflx</th>\n",
              "      <td>0.103500</td>\n",
              "      <td>0.499533</td>\n",
              "      <td>0.310139</td>\n",
              "      <td>1.000000</td>\n",
              "    </tr>\n",
              "  </tbody>\n",
              "</table>\n",
              "</div>\n",
              "      <button class=\"colab-df-convert\" onclick=\"convertToInteractive('df-d8886261-fd9b-4056-adb0-7076d7b305e8')\"\n",
              "              title=\"Convert this dataframe to an interactive table.\"\n",
              "              style=\"display:none;\">\n",
              "        \n",
              "  <svg xmlns=\"http://www.w3.org/2000/svg\" height=\"24px\"viewBox=\"0 0 24 24\"\n",
              "       width=\"24px\">\n",
              "    <path d=\"M0 0h24v24H0V0z\" fill=\"none\"/>\n",
              "    <path d=\"M18.56 5.44l.94 2.06.94-2.06 2.06-.94-2.06-.94-.94-2.06-.94 2.06-2.06.94zm-11 1L8.5 8.5l.94-2.06 2.06-.94-2.06-.94L8.5 2.5l-.94 2.06-2.06.94zm10 10l.94 2.06.94-2.06 2.06-.94-2.06-.94-.94-2.06-.94 2.06-2.06.94z\"/><path d=\"M17.41 7.96l-1.37-1.37c-.4-.4-.92-.59-1.43-.59-.52 0-1.04.2-1.43.59L10.3 9.45l-7.72 7.72c-.78.78-.78 2.05 0 2.83L4 21.41c.39.39.9.59 1.41.59.51 0 1.02-.2 1.41-.59l7.78-7.78 2.81-2.81c.8-.78.8-2.07 0-2.86zM5.41 20L4 18.59l7.72-7.72 1.47 1.35L5.41 20z\"/>\n",
              "  </svg>\n",
              "      </button>\n",
              "      \n",
              "  <style>\n",
              "    .colab-df-container {\n",
              "      display:flex;\n",
              "      flex-wrap:wrap;\n",
              "      gap: 12px;\n",
              "    }\n",
              "\n",
              "    .colab-df-convert {\n",
              "      background-color: #E8F0FE;\n",
              "      border: none;\n",
              "      border-radius: 50%;\n",
              "      cursor: pointer;\n",
              "      display: none;\n",
              "      fill: #1967D2;\n",
              "      height: 32px;\n",
              "      padding: 0 0 0 0;\n",
              "      width: 32px;\n",
              "    }\n",
              "\n",
              "    .colab-df-convert:hover {\n",
              "      background-color: #E2EBFA;\n",
              "      box-shadow: 0px 1px 2px rgba(60, 64, 67, 0.3), 0px 1px 3px 1px rgba(60, 64, 67, 0.15);\n",
              "      fill: #174EA6;\n",
              "    }\n",
              "\n",
              "    [theme=dark] .colab-df-convert {\n",
              "      background-color: #3B4455;\n",
              "      fill: #D2E3FC;\n",
              "    }\n",
              "\n",
              "    [theme=dark] .colab-df-convert:hover {\n",
              "      background-color: #434B5C;\n",
              "      box-shadow: 0px 1px 3px 1px rgba(0, 0, 0, 0.15);\n",
              "      filter: drop-shadow(0px 1px 2px rgba(0, 0, 0, 0.3));\n",
              "      fill: #FFFFFF;\n",
              "    }\n",
              "  </style>\n",
              "\n",
              "      <script>\n",
              "        const buttonEl =\n",
              "          document.querySelector('#df-d8886261-fd9b-4056-adb0-7076d7b305e8 button.colab-df-convert');\n",
              "        buttonEl.style.display =\n",
              "          google.colab.kernel.accessAllowed ? 'block' : 'none';\n",
              "\n",
              "        async function convertToInteractive(key) {\n",
              "          const element = document.querySelector('#df-d8886261-fd9b-4056-adb0-7076d7b305e8');\n",
              "          const dataTable =\n",
              "            await google.colab.kernel.invokeFunction('convertToInteractive',\n",
              "                                                     [key], {});\n",
              "          if (!dataTable) return;\n",
              "\n",
              "          const docLinkHtml = 'Like what you see? Visit the ' +\n",
              "            '<a target=\"_blank\" href=https://colab.research.google.com/notebooks/data_table.ipynb>data table notebook</a>'\n",
              "            + ' to learn more about interactive tables.';\n",
              "          element.innerHTML = '';\n",
              "          dataTable['output_type'] = 'display_data';\n",
              "          await google.colab.output.renderOutput(dataTable, element);\n",
              "          const docLink = document.createElement('div');\n",
              "          docLink.innerHTML = docLinkHtml;\n",
              "          element.appendChild(docLink);\n",
              "        }\n",
              "      </script>\n",
              "    </div>\n",
              "  </div>\n",
              "  "
            ]
          },
          "metadata": {},
          "execution_count": 215
        }
      ],
      "source": [
        "#anual\n",
        "data_2.corr()"
      ]
    },
    {
      "cell_type": "markdown",
      "source": [
        "Note que las correlaciones en el marco anual tienen un aumento para algunas acciones respecto de los otros dos marcos de timpo (diario y mensual)."
      ],
      "metadata": {
        "id": "Fxvjy6ApxsFn"
      }
    },
    {
      "cell_type": "markdown",
      "source": [
        "### **3.1 Pruebas de normalidad y test de hipótsis**"
      ],
      "metadata": {
        "id": "sASBvIf5zSqH"
      }
    },
    {
      "cell_type": "markdown",
      "source": [
        "Vamos a implementar una función con el test de Shapiro - Wilk para determinar si los datos siguen una distribución normal."
      ],
      "metadata": {
        "id": "qpxNZQ1H2dmM"
      }
    },
    {
      "cell_type": "code",
      "source": [
        "def prueba_normalidad(data, ticker):\n",
        "    test = stats.shapiro(data['Return_'+ticker])\n",
        "    if test[1] > 0.05:\n",
        "        print ('Los datos ingresados siguen una distribución normal, p = {} > 0.05'.format(test[1]))\n",
        "    else:\n",
        "        print('Los datos ingresados no siguen una distribución normal, p = {} < 0.05'.format(test[1]))"
      ],
      "metadata": {
        "id": "QdheV7aq2cEM"
      },
      "execution_count": null,
      "outputs": []
    },
    {
      "cell_type": "markdown",
      "source": [
        "Usaremos el test de normalidad con algunos rendimientos en diferentes marcos de tiempo."
      ],
      "metadata": {
        "id": "TrS5fWBF7vMG"
      }
    },
    {
      "cell_type": "code",
      "source": [
        "prueba_normalidad(data_0, 'aapl')"
      ],
      "metadata": {
        "colab": {
          "base_uri": "https://localhost:8080/"
        },
        "id": "OR1LR17576I2",
        "outputId": "fdb859a4-9cc4-4016-de05-79ba99e9e889"
      },
      "execution_count": null,
      "outputs": [
        {
          "output_type": "stream",
          "name": "stdout",
          "text": [
            "Los datos ingresados no siguen una distribución normal, p = 1.0607654212630825e-38 < 0.05\n"
          ]
        }
      ]
    },
    {
      "cell_type": "code",
      "source": [
        "prueba_normalidad(data_1, 'aapl')"
      ],
      "metadata": {
        "colab": {
          "base_uri": "https://localhost:8080/"
        },
        "id": "icpQ7qKi_m6f",
        "outputId": "ce1f0356-ba9e-41dd-df70-67a1edd5581c"
      },
      "execution_count": null,
      "outputs": [
        {
          "output_type": "stream",
          "name": "stdout",
          "text": [
            "Los datos ingresados no siguen una distribución normal, p = 0.00043655443005263805 < 0.05\n"
          ]
        }
      ]
    },
    {
      "cell_type": "code",
      "source": [
        "prueba_normalidad(data_2, 'aapl')"
      ],
      "metadata": {
        "colab": {
          "base_uri": "https://localhost:8080/"
        },
        "id": "aFsv6qAY_vUD",
        "outputId": "94f6854b-0bdb-44e3-9e40-5c224cfc6631"
      },
      "execution_count": null,
      "outputs": [
        {
          "output_type": "stream",
          "name": "stdout",
          "text": [
            "Los datos ingresados siguen una distribución normal, p = 0.2486911118030548 > 0.05\n"
          ]
        }
      ]
    },
    {
      "cell_type": "markdown",
      "source": [
        "Los tres test realizados anteriormente corresponden a marcos de tiempo día, mes, año respectivamente. Con fines demostrativos, suponga que se requiere saber si las medias de rendimientos de las acciones de Apple y Amazon son iguales "
      ],
      "metadata": {
        "id": "3Imlpjjj_5U7"
      }
    },
    {
      "cell_type": "markdown",
      "source": [
        "* Hipótesis nula $H_0: \\mu_1 = \\mu_2$ \n",
        "* Hipótesis alternativa $H_a: \\mu_1 \\neq \\mu_2$ "
      ],
      "metadata": {
        "id": "izL-QOhQ3ijy"
      }
    },
    {
      "cell_type": "code",
      "source": [
        "z_score, p_valor = sm.stats.ztest(data_2['Return_aapl'], data_2['Return_amzn'],\n",
        "                                  value = 0,\n",
        "                                  alternative = 'two-sided')\n",
        "print(f\"Estadístico: {z_score}\\np-valor: {p_valor}\")"
      ],
      "metadata": {
        "colab": {
          "base_uri": "https://localhost:8080/"
        },
        "id": "wXiYEbfFBWbT",
        "outputId": "3e63f120-9984-45fc-bf8d-535a970d4b6e"
      },
      "execution_count": null,
      "outputs": [
        {
          "output_type": "stream",
          "name": "stdout",
          "text": [
            "Estadístico: 0.3261748807084583\n",
            "p-valor: 0.7442920453195456\n"
          ]
        }
      ]
    },
    {
      "cell_type": "markdown",
      "source": [
        "Dado que el p_valor no es menor que 0.05 no existe evidencia para estar a favor de la hipótesis alternativa. Es decir no se rechaza la hipótesis nula."
      ],
      "metadata": {
        "id": "6vY8gEQKCXET"
      }
    },
    {
      "cell_type": "markdown",
      "source": [
        "### **3.2 Regresión lineal**"
      ],
      "metadata": {
        "id": "u2YVYCt2Gzek"
      }
    },
    {
      "cell_type": "markdown",
      "source": [
        "En este apartado aplicaremos una regresión lineal a los datos 'Return_amzn'.\n",
        "\n",
        "En primer lugar vamos a tomar el conjunto de datos *data_2* para obsevar con que variables tiene cuna correlación mayor.\n"
      ],
      "metadata": {
        "id": "sRnvu63lHKbP"
      }
    },
    {
      "cell_type": "code",
      "source": [
        "data_2.corr()['Return_amzn'].sort_values()"
      ],
      "metadata": {
        "colab": {
          "base_uri": "https://localhost:8080/"
        },
        "id": "PBZOSLZoHuOr",
        "outputId": "1bcd9bf4-bb2f-4158-df70-81c1b87b8046"
      },
      "execution_count": null,
      "outputs": [
        {
          "output_type": "execute_result",
          "data": {
            "text/plain": [
              "Return_nflx    0.499533\n",
              "Return_aapl    0.605828\n",
              "Return_goog    0.756184\n",
              "Return_amzn    1.000000\n",
              "Name: Return_amzn, dtype: float64"
            ]
          },
          "metadata": {},
          "execution_count": 221
        }
      ]
    },
    {
      "cell_type": "code",
      "source": [
        "data_0.corr()['Return_aapl'].sort_values()"
      ],
      "metadata": {
        "colab": {
          "base_uri": "https://localhost:8080/"
        },
        "id": "IF-PwjyvUxI2",
        "outputId": "237be87e-efbb-41d0-c796-ac495a314541"
      },
      "execution_count": null,
      "outputs": [
        {
          "output_type": "execute_result",
          "data": {
            "text/plain": [
              "Return_nflx    0.285896\n",
              "Return_amzn    0.458703\n",
              "Return_goog    0.527091\n",
              "Return_aapl    1.000000\n",
              "Name: Return_aapl, dtype: float64"
            ]
          },
          "metadata": {},
          "execution_count": 222
        }
      ]
    },
    {
      "cell_type": "markdown",
      "source": [
        "Note que la acción con la que tiene una mayor correlación es *Google*, vamos a implementar un modelo para realizar una predicción sobre los rendimientos de *Amazon* usando los rendimientos de *Google*."
      ],
      "metadata": {
        "id": "reUi_eJTIlVf"
      }
    },
    {
      "cell_type": "code",
      "source": [
        "def modelo(data, v_dep, v_ind):\n",
        "    clasificador = 'Return_'+ v_dep + '~' + 'Return_'+ v_ind\n",
        "    model = sm.OLS.from_formula(clasificador, data = data) \n",
        "    result = model.fit()\n",
        "    print(result.summary())\n",
        "    return result.params"
      ],
      "metadata": {
        "id": "wp4uQTiZE9_T"
      },
      "execution_count": null,
      "outputs": []
    },
    {
      "cell_type": "markdown",
      "source": [
        "Usaremos la función modelo para predecir los valores de *Amazon*"
      ],
      "metadata": {
        "id": "IkcaDEiZSTiB"
      }
    },
    {
      "cell_type": "code",
      "source": [
        "#resultado = modelo(data_2, 'amzn', 'goog')\n",
        "resultado1 = modelo(data_0, 'aapl', 'goog')"
      ],
      "metadata": {
        "colab": {
          "base_uri": "https://localhost:8080/"
        },
        "id": "Gd5lmtBZSS8D",
        "outputId": "bddbb36d-6169-48fe-e6b3-6b30e3e7cfe4"
      },
      "execution_count": null,
      "outputs": [
        {
          "output_type": "stream",
          "name": "stdout",
          "text": [
            "                            OLS Regression Results                            \n",
            "==============================================================================\n",
            "Dep. Variable:            Return_aapl   R-squared:                       0.278\n",
            "Model:                            OLS   Adj. R-squared:                  0.278\n",
            "Method:                 Least Squares   F-statistic:                     1797.\n",
            "Date:                Tue, 28 Mar 2023   Prob (F-statistic):               0.00\n",
            "Time:                        18:21:36   Log-Likelihood:                 12191.\n",
            "No. Observations:                4672   AIC:                        -2.438e+04\n",
            "Df Residuals:                    4670   BIC:                        -2.437e+04\n",
            "Df Model:                           1                                         \n",
            "Covariance Type:            nonrobust                                         \n",
            "===============================================================================\n",
            "                  coef    std err          t      P>|t|      [0.025      0.975]\n",
            "-------------------------------------------------------------------------------\n",
            "Intercept       0.0008      0.000      3.081      0.002       0.000       0.001\n",
            "Return_goog     0.5721      0.013     42.386      0.000       0.546       0.599\n",
            "==============================================================================\n",
            "Omnibus:                      617.485   Durbin-Watson:                   2.021\n",
            "Prob(Omnibus):                  0.000   Jarque-Bera (JB):             7778.244\n",
            "Skew:                           0.031   Prob(JB):                         0.00\n",
            "Kurtosis:                       9.321   Cond. No.                         51.8\n",
            "==============================================================================\n",
            "\n",
            "Notes:\n",
            "[1] Standard Errors assume that the covariance matrix of the errors is correctly specified.\n"
          ]
        }
      ]
    },
    {
      "cell_type": "code",
      "source": [
        " data_dia = data_0.copy()"
      ],
      "metadata": {
        "id": "fWWH-yBPaDqv"
      },
      "execution_count": null,
      "outputs": []
    },
    {
      "cell_type": "code",
      "source": [
        "data_0copy = data_0.copy()\n",
        "data_dia['prediccion_aapl'] = data_dia['Return_aapl'].apply(lambda x: resultado1[0] + resultado1[1]*x)\n",
        "sns.scatterplot(data = data_dia, x = 'Return_aapl', y = 'prediccion_aapl' )"
      ],
      "metadata": {
        "colab": {
          "base_uri": "https://localhost:8080/",
          "height": 297
        },
        "id": "U1EcHi9AYCOk",
        "outputId": "0cb7c3a4-9348-46c2-ccca-65643b000e9b"
      },
      "execution_count": null,
      "outputs": [
        {
          "output_type": "execute_result",
          "data": {
            "text/plain": [
              "<Axes: xlabel='Return_aapl', ylabel='prediccion_aapl'>"
            ]
          },
          "metadata": {},
          "execution_count": 226
        },
        {
          "output_type": "display_data",
          "data": {
            "text/plain": [
              "<Figure size 432x288 with 1 Axes>"
            ],
            "image/png": "[encoded data removed]"
          },
          "metadata": {
            "needs_background": "light"
          }
        }
      ]
    },
    {
      "cell_type": "code",
      "source": [
        "data_dia[['Return_aapl', 'prediccion_aapl']]"
      ],
      "metadata": {
        "colab": {
          "base_uri": "https://localhost:8080/",
          "height": 455
        },
        "id": "onO_DkiLcb33",
        "outputId": "120b837f-26b9-4745-ab38-eca768bd9cdb"
      },
      "execution_count": null,
      "outputs": [
        {
          "output_type": "execute_result",
          "data": {
            "text/plain": [
              "            Return_aapl  prediccion_aapl\n",
              "Date                                    \n",
              "2004-08-23     0.009051         0.005982\n",
              "2004-08-24     0.027608         0.016599\n",
              "2004-08-25     0.033849         0.020169\n",
              "2004-08-26     0.047565         0.028017\n",
              "2004-08-27    -0.008985        -0.004337\n",
              "...                 ...              ...\n",
              "2023-03-08     0.008342         0.005576\n",
              "2023-03-09    -0.015027        -0.007794\n",
              "2023-03-10    -0.013976        -0.007193\n",
              "2023-03-13     0.013179         0.008343\n",
              "2023-03-14     0.013991         0.008808\n",
              "\n",
              "[4672 rows x 2 columns]"
            ],
            "text/html": [
              "\n",
              "  <div id=\"df-de1ed15f-8440-4056-aea2-6166122f0276\">\n",
              "    <div class=\"colab-df-container\">\n",
              "      <div>\n",
              "<style scoped>\n",
              "    .dataframe tbody tr th:only-of-type {\n",
              "        vertical-align: middle;\n",
              "    }\n",
              "\n",
              "    .dataframe tbody tr th {\n",
              "        vertical-align: top;\n",
              "    }\n",
              "\n",
              "    .dataframe thead th {\n",
              "        text-align: right;\n",
              "    }\n",
              "</style>\n",
              "<table border=\"1\" class=\"dataframe\">\n",
              "  <thead>\n",
              "    <tr style=\"text-align: right;\">\n",
              "      <th></th>\n",
              "      <th>Return_aapl</th>\n",
              "      <th>prediccion_aapl</th>\n",
              "    </tr>\n",
              "    <tr>\n",
              "      <th>Date</th>\n",
              "      <th></th>\n",
              "      <th></th>\n",
              "    </tr>\n",
              "  </thead>\n",
              "  <tbody>\n",
              "    <tr>\n",
              "      <th>2004-08-23</th>\n",
              "      <td>0.009051</td>\n",
              "      <td>0.005982</td>\n",
              "    </tr>\n",
              "    <tr>\n",
              "      <th>2004-08-24</th>\n",
              "      <td>0.027608</td>\n",
              "      <td>0.016599</td>\n",
              "    </tr>\n",
              "    <tr>\n",
              "      <th>2004-08-25</th>\n",
              "      <td>0.033849</td>\n",
              "      <td>0.020169</td>\n",
              "    </tr>\n",
              "    <tr>\n",
              "      <th>2004-08-26</th>\n",
              "      <td>0.047565</td>\n",
              "      <td>0.028017</td>\n",
              "    </tr>\n",
              "    <tr>\n",
              "      <th>2004-08-27</th>\n",
              "      <td>-0.008985</td>\n",
              "      <td>-0.004337</td>\n",
              "    </tr>\n",
              "    <tr>\n",
              "      <th>...</th>\n",
              "      <td>...</td>\n",
              "      <td>...</td>\n",
              "    </tr>\n",
              "    <tr>\n",
              "      <th>2023-03-08</th>\n",
              "      <td>0.008342</td>\n",
              "      <td>0.005576</td>\n",
              "    </tr>\n",
              "    <tr>\n",
              "      <th>2023-03-09</th>\n",
              "      <td>-0.015027</td>\n",
              "      <td>-0.007794</td>\n",
              "    </tr>\n",
              "    <tr>\n",
              "      <th>2023-03-10</th>\n",
              "      <td>-0.013976</td>\n",
              "      <td>-0.007193</td>\n",
              "    </tr>\n",
              "    <tr>\n",
              "      <th>2023-03-13</th>\n",
              "      <td>0.013179</td>\n",
              "      <td>0.008343</td>\n",
              "    </tr>\n",
              "    <tr>\n",
              "      <th>2023-03-14</th>\n",
              "      <td>0.013991</td>\n",
              "      <td>0.008808</td>\n",
              "    </tr>\n",
              "  </tbody>\n",
              "</table>\n",
              "<p>4672 rows × 2 columns</p>\n",
              "</div>\n",
              "      <button class=\"colab-df-convert\" onclick=\"convertToInteractive('df-de1ed15f-8440-4056-aea2-6166122f0276')\"\n",
              "              title=\"Convert this dataframe to an interactive table.\"\n",
              "              style=\"display:none;\">\n",
              "        \n",
              "  <svg xmlns=\"http://www.w3.org/2000/svg\" height=\"24px\"viewBox=\"0 0 24 24\"\n",
              "       width=\"24px\">\n",
              "    <path d=\"M0 0h24v24H0V0z\" fill=\"none\"/>\n",
              "    <path d=\"M18.56 5.44l.94 2.06.94-2.06 2.06-.94-2.06-.94-.94-2.06-.94 2.06-2.06.94zm-11 1L8.5 8.5l.94-2.06 2.06-.94-2.06-.94L8.5 2.5l-.94 2.06-2.06.94zm10 10l.94 2.06.94-2.06 2.06-.94-2.06-.94-.94-2.06-.94 2.06-2.06.94z\"/><path d=\"M17.41 7.96l-1.37-1.37c-.4-.4-.92-.59-1.43-.59-.52 0-1.04.2-1.43.59L10.3 9.45l-7.72 7.72c-.78.78-.78 2.05 0 2.83L4 21.41c.39.39.9.59 1.41.59.51 0 1.02-.2 1.41-.59l7.78-7.78 2.81-2.81c.8-.78.8-2.07 0-2.86zM5.41 20L4 18.59l7.72-7.72 1.47 1.35L5.41 20z\"/>\n",
              "  </svg>\n",
              "      </button>\n",
              "      \n",
              "  <style>\n",
              "    .colab-df-container {\n",
              "      display:flex;\n",
              "      flex-wrap:wrap;\n",
              "      gap: 12px;\n",
              "    }\n",
              "\n",
              "    .colab-df-convert {\n",
              "      background-color: #E8F0FE;\n",
              "      border: none;\n",
              "      border-radius: 50%;\n",
              "      cursor: pointer;\n",
              "      display: none;\n",
              "      fill: #1967D2;\n",
              "      height: 32px;\n",
              "      padding: 0 0 0 0;\n",
              "      width: 32px;\n",
              "    }\n",
              "\n",
              "    .colab-df-convert:hover {\n",
              "      background-color: #E2EBFA;\n",
              "      box-shadow: 0px 1px 2px rgba(60, 64, 67, 0.3), 0px 1px 3px 1px rgba(60, 64, 67, 0.15);\n",
              "      fill: #174EA6;\n",
              "    }\n",
              "\n",
              "    [theme=dark] .colab-df-convert {\n",
              "      background-color: #3B4455;\n",
              "      fill: #D2E3FC;\n",
              "    }\n",
              "\n",
              "    [theme=dark] .colab-df-convert:hover {\n",
              "      background-color: #434B5C;\n",
              "      box-shadow: 0px 1px 3px 1px rgba(0, 0, 0, 0.15);\n",
              "      filter: drop-shadow(0px 1px 2px rgba(0, 0, 0, 0.3));\n",
              "      fill: #FFFFFF;\n",
              "    }\n",
              "  </style>\n",
              "\n",
              "      <script>\n",
              "        const buttonEl =\n",
              "          document.querySelector('#df-de1ed15f-8440-4056-aea2-6166122f0276 button.colab-df-convert');\n",
              "        buttonEl.style.display =\n",
              "          google.colab.kernel.accessAllowed ? 'block' : 'none';\n",
              "\n",
              "        async function convertToInteractive(key) {\n",
              "          const element = document.querySelector('#df-de1ed15f-8440-4056-aea2-6166122f0276');\n",
              "          const dataTable =\n",
              "            await google.colab.kernel.invokeFunction('convertToInteractive',\n",
              "                                                     [key], {});\n",
              "          if (!dataTable) return;\n",
              "\n",
              "          const docLinkHtml = 'Like what you see? Visit the ' +\n",
              "            '<a target=\"_blank\" href=https://colab.research.google.com/notebooks/data_table.ipynb>data table notebook</a>'\n",
              "            + ' to learn more about interactive tables.';\n",
              "          element.innerHTML = '';\n",
              "          dataTable['output_type'] = 'display_data';\n",
              "          await google.colab.output.renderOutput(dataTable, element);\n",
              "          const docLink = document.createElement('div');\n",
              "          docLink.innerHTML = docLinkHtml;\n",
              "          element.appendChild(docLink);\n",
              "        }\n",
              "      </script>\n",
              "    </div>\n",
              "  </div>\n",
              "  "
            ]
          },
          "metadata": {},
          "execution_count": 228
        }
      ]
    },
    {
      "cell_type": "markdown",
      "source": [
        "Observe que $R^2$ tiene el valor 0.572 lo cual sugiere que la predicción es un tanto buena."
      ],
      "metadata": {
        "id": "RO7rKl2sJ99y"
      }
    },
    {
      "cell_type": "code",
      "source": [
        "data_2copy = data_2.copy()\n",
        "data_2copy['predicción_amzn'] = data_2copy['Return_amzn'].apply(lambda x: resultado[0] + resultado[1]*x)"
      ],
      "metadata": {
        "id": "tSdg7JVKH4eL"
      },
      "execution_count": null,
      "outputs": []
    },
    {
      "cell_type": "code",
      "source": [
        "data_2copy[['Return_amzn', 'predicción_amzn']].head()"
      ],
      "metadata": {
        "id": "pXFUD3RtXKEy"
      },
      "execution_count": null,
      "outputs": []
    },
    {
      "cell_type": "code",
      "source": [
        "sns.scatterplot(data = data_2copy, x = 'Return_amzn', y = 'predicción_amzn')"
      ],
      "metadata": {
        "id": "UVbOqRy3drAj"
      },
      "execution_count": null,
      "outputs": []
    },
    {
      "cell_type": "markdown",
      "source": [
        "## Conclusiones"
      ],
      "metadata": {
        "id": "axT4nrNZVDIA"
      }
    },
    {
      "cell_type": "markdown",
      "source": [
        "1. En la sección 2. se puede apreciar que los rendimientos de las acciones se hacen más notorios al largo plazo. En algunos casos superando el 100% de la inversión inicial. En marcos de tiempo de corto plazo los rendimientos son menores, además muestran alta volatilidad, por lo cual el riesgo de perder dinero es más alto.\n",
        "\n",
        "2. En todos los casos de reporte anual, los rendimientos son positivos. Por lo tanto es correcto incluir una de estas acciones en el portafolio de inversiones. Siempre es necesario realizar un análisis mas exahustivo, por ejemplo; estudiar la deuda de la empresa, la utilidad, el CEO actual, y las proyecciones a futuro.\n",
        "\n",
        "3. En la sección entendimiento de los datos y análisis de datos podemos ver que existe una relación entre los rendimientos de algunas acciones. Observe de nuevo la matriz de correlación de los rendimientos en un marco de tiempo diario y anual respectivamente:"
      ],
      "metadata": {
        "id": "OXoxCJxcVt0Q"
      }
    },
    {
      "cell_type": "code",
      "source": [
        "data_0.corr()"
      ],
      "metadata": {
        "id": "uxgHjaWEVyqT"
      },
      "execution_count": null,
      "outputs": []
    },
    {
      "cell_type": "code",
      "source": [
        "data_2.corr()"
      ],
      "metadata": {
        "id": "29Wt_OuOZae2"
      },
      "execution_count": null,
      "outputs": []
    },
    {
      "cell_type": "markdown",
      "source": [
        "Note que en el marco de tiempo anual (segundo df) las correlaciones en algunos casos son bastante altas, es decir que los rendimientos parecen estar relacionados, ya sea porque pertenecen al mismo sector técnologico o porque el mercado en los últimos años estaba en ascenso. Puede verse que acciones como *Netflix* y *Google*  tienen una correlación baja a comparacion de *Apple* y *Google*. Por lo tanto se podría pensar que al elegir la acción de *Google* para ser parte de un portafolio de inversiones junto con ella podriamos elegir la acción de *Apple*. Por tanto el análisis solo sirve como apoyo para tomar mejores decisiones y solo considerar acciones que sean de nuestro interes."
      ],
      "metadata": {
        "id": "I-J98pSmZqdH"
      }
    },
    {
      "cell_type": "markdown",
      "source": [
        "4. Se realizó una regresión linear, tomando como variable independiente *Return_goog* para predecir los rendimientos de *Amazon*, en gráfica de la sección 3.2 se puede observar que la predicción es un tanto buena como para considerarla en un modelo de predicción solo para efectos de estudio."
      ],
      "metadata": {
        "id": "HnxgrRsIh5Wq"
      }
    },
    {
      "cell_type": "markdown",
      "source": [
        "5. Como último comentario, en el preceso de análisis de los datos, surgió la duda de que tanto invertir en un portafolio con 4 o 5 acciones, es decir que porcentajes ocuparían cada una de esas acciones en el portafolio y como optimizar esa inversión. El modelo de optimización de Markowitz es de gran utilidad para resolver esa duda y es interesante implementarlo en un próximo proyecto. "
      ],
      "metadata": {
        "id": "87u9p8cNiqRJ"
      }
    },
    {
      "cell_type": "code",
      "source": [],
      "metadata": {
        "id": "k3WVE25fipGC"
      },
      "execution_count": null,
      "outputs": []
    }
  ],
  "metadata": {
    "colab": {
      "provenance": [],
      "authorship_tag": "ABX9TyMkRS6XRc5u7CmPhJrF6WEh",
      "include_colab_link": true
    },
    "kernelspec": {
      "display_name": "Python 3",
      "name": "python3"
    },
    "language_info": {
      "name": "python"
    }
  },
  "nbformat": 4,
  "nbformat_minor": 0
}